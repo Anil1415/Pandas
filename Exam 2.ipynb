{
 "cells": [
  {
   "cell_type": "code",
   "execution_count": 2,
   "id": "c810c6bd",
   "metadata": {},
   "outputs": [
    {
     "name": "stdout",
     "output_type": "stream",
     "text": [
      "\n"
     ]
    },
    {
     "ename": "AttributeError",
     "evalue": "'list' object has no attribute 'reshape'",
     "output_type": "error",
     "traceback": [
      "\u001b[0;31m---------------------------------------------------------------------------\u001b[0m",
      "\u001b[0;31mAttributeError\u001b[0m                            Traceback (most recent call last)",
      "Input \u001b[0;32mIn [2]\u001b[0m, in \u001b[0;36m<cell line: 47>\u001b[0;34m()\u001b[0m\n\u001b[1;32m     45\u001b[0m x \u001b[38;5;241m=\u001b[39m [\u001b[38;5;28mfloat\u001b[39m(i) \u001b[38;5;28;01mfor\u001b[39;00m i \u001b[38;5;129;01min\u001b[39;00m \u001b[38;5;28minput\u001b[39m()\u001b[38;5;241m.\u001b[39msplit()]\n\u001b[1;32m     46\u001b[0m \u001b[38;5;66;03m# x = x.reshape(-1,1)\u001b[39;00m\n\u001b[0;32m---> 47\u001b[0m x_train\u001b[38;5;241m=\u001b[39m \u001b[43mx_train\u001b[49m\u001b[38;5;241;43m.\u001b[39;49m\u001b[43mreshape\u001b[49m(\u001b[38;5;241m-\u001b[39m\u001b[38;5;241m1\u001b[39m, \u001b[38;5;241m1\u001b[39m)\n\u001b[1;32m     48\u001b[0m x_test \u001b[38;5;241m=\u001b[39m x_test\u001b[38;5;241m.\u001b[39mreshape(\u001b[38;5;241m-\u001b[39m\u001b[38;5;241m1\u001b[39m, \u001b[38;5;241m1\u001b[39m)\n\u001b[1;32m     51\u001b[0m \u001b[38;5;66;03m#NOTE: The variable \"x\" now contains the list of 3 floating point numbers denoting the Cost on TV, Radio and News Paper Advertisement respectively.\u001b[39;00m\n\u001b[1;32m     52\u001b[0m \n\u001b[1;32m     53\u001b[0m \u001b[38;5;66;03m#WRITE YOUR LOGIC HERE:\u001b[39;00m\n\u001b[1;32m     54\u001b[0m \u001b[38;5;66;03m# x_new =np.array([[20.1,15.3,71.4]])\u001b[39;00m\n",
      "\u001b[0;31mAttributeError\u001b[0m: 'list' object has no attribute 'reshape'"
     ]
    }
   ],
   "source": [
    "'''IMPORTANT: click on \"Compile & Run\" to generate an output to the written code\n",
    "ONLY this will generate scores for your code!\n",
    "Also this will help you to check correctness of your code against test cases'''\n",
    "\n",
    "from sklearn.linear_model import LinearRegression\n",
    "import numpy as np\n",
    "\n",
    "#this is default OUTPUT. You are allowed to modify it.\n",
    "#result=-404.00\n",
    "\n",
    "#dataset\n",
    "X = [[230.1,37.8,69.2],\n",
    "    [44.5,39.3,45.1],\n",
    "    [17.2,45.9,69.3],\n",
    "    [151.5,41.3,58.5],\n",
    "    [180.8,10.8,58.4],\n",
    "    [8.7,48.9,75],\n",
    "    [57.5,32.8,23.5],\n",
    "    [120.2,19.6,11.6],\n",
    "    [8.6,2.1,1],\n",
    "    [199.8,2.6,21.2],\n",
    "    [66.1,5.8,24.2],\n",
    "    [214.7,24,4],\n",
    "    [23.8,35.1,65.9],\n",
    "    [97.5,7.6,7.2],\n",
    "    [204.1,32.9,46],\n",
    "    [195.4,47.7,52.9],\n",
    "    [67.8,36.6,114],\n",
    "    [281.4,39.6,55.8],\n",
    "    [69.2,20.5,18.3],\n",
    "    [147.3,23.9,19.1],\n",
    "    [218.4,27.7,53.4],\n",
    "    [237.4,5.1,23.5],\n",
    "    [13.2,15.9,49.6],\n",
    "    [228.3,16.9,26.2],\n",
    "    [62.3,12.6,18.3]]\n",
    "Y = [22.1, 10.4, 9.3, 18.5, 12.9, 7.2, 11.8, 13.2, 4.8, 10.6, 8.6, 17.4, 9.2, 9.7, 19, 22.4, 12.5, 24.4, 11.3, 14.6, 18, 12.5, 5.6, 15.5, 9.7]\n",
    "\n",
    "#INPUT [uncomment & modify if required] \n",
    "from sklearn.model_selection import train_test_split\n",
    "lr = LinearRegression()\n",
    "x_train,x_test,Y_train,Y_test = train_test_split(X,Y,random_state=0)\n",
    "lr.fit(x_train,Y_train)\n",
    "#input for 3 floating point numbers denoting the Cost on TV, Radio and News Paper Advertisement respectively.\n",
    "x = [float(i) for i in input().split()]\n",
    "# x = x.reshape(-1,1)\n",
    "x_train= x_train.reshape(-1, 1)\n",
    "x_test = x_test.reshape(-1, 1)\n",
    "\n",
    "\n",
    "#NOTE: The variable \"x\" now contains the list of 3 floating point numbers denoting the Cost on TV, Radio and News Paper Advertisement respectively.\n",
    "\n",
    "#WRITE YOUR LOGIC HERE:\n",
    "# x_new =np.array([[20.1,15.3,71.4]])\n",
    "\n",
    "result = lr.predict(x)\n",
    "\n",
    "\n",
    "# = np.array([[230.1,37.8,69.2]])\n",
    "#OUTPUT [uncomment & modify if required] \n",
    "print('%.2f' %result)"
   ]
  },
  {
   "cell_type": "code",
   "execution_count": null,
   "id": "097cf64a",
   "metadata": {},
   "outputs": [],
   "source": []
  },
  {
   "cell_type": "code",
   "execution_count": null,
   "id": "7614e8dc",
   "metadata": {},
   "outputs": [],
   "source": [
    "\n",
    "from sklearn.linear_model import LinearRegression\n",
    "import numpy as np\n",
    "\n",
    "#this is default OUTPUT. You are allowed to modify it.\n",
    "#result=-404.00"
   ]
  },
  {
   "cell_type": "code",
   "execution_count": 3,
   "id": "589f0bba",
   "metadata": {},
   "outputs": [],
   "source": [
    "#this is default OUTPUT. You are allowed to modify it.\n",
    "#result=-404.00\n",
    "\n",
    "#dataset\n",
    "X = [[230.1,37.8,69.2],\n",
    "    [44.5,39.3,45.1],\n",
    "    [17.2,45.9,69.3],\n",
    "    [151.5,41.3,58.5],\n",
    "    [180.8,10.8,58.4],\n",
    "    [8.7,48.9,75],\n",
    "    [57.5,32.8,23.5],\n",
    "    [120.2,19.6,11.6],\n",
    "    [8.6,2.1,1],\n",
    "    [199.8,2.6,21.2],\n",
    "    [66.1,5.8,24.2],\n",
    "    [214.7,24,4],\n",
    "    [23.8,35.1,65.9],\n",
    "    [97.5,7.6,7.2],\n",
    "    [204.1,32.9,46],\n",
    "    [195.4,47.7,52.9],\n",
    "    [67.8,36.6,114],\n",
    "    [281.4,39.6,55.8],\n",
    "    [69.2,20.5,18.3],\n",
    "    [147.3,23.9,19.1],\n",
    "    [218.4,27.7,53.4],\n",
    "    [237.4,5.1,23.5],\n",
    "    [13.2,15.9,49.6],\n",
    "    [228.3,16.9,26.2],\n",
    "    [62.3,12.6,18.3]]\n",
    "Y = [22.1, 10.4, 9.3, 18.5, 12.9, 7.2, 11.8, 13.2, 4.8, 10.6, 8.6, 17.4, 9.2, 9.7, 19, 22.4, 12.5, 24.4, 11.3, 14.6, 18, 12.5, 5.6, 15.5, 9.7]\n",
    "\n"
   ]
  },
  {
   "cell_type": "code",
   "execution_count": 4,
   "id": "2b2866e6",
   "metadata": {},
   "outputs": [],
   "source": [
    " #INPUT [uncomment & modify if required] \n",
    "from sklearn.model_selection import train_test_split\n",
    "lr = LinearRegression()"
   ]
  },
  {
   "cell_type": "code",
   "execution_count": 5,
   "id": "a5a5c64c",
   "metadata": {},
   "outputs": [
    {
     "data": {
      "text/plain": [
       "LinearRegression()"
      ]
     },
     "execution_count": 5,
     "metadata": {},
     "output_type": "execute_result"
    }
   ],
   "source": [
    "\n",
    "x_train,x_test,Y_train,Y_test = train_test_split(X,Y,random_state=0)\n",
    "lr.fit(x_train,Y_train)\n"
   ]
  },
  {
   "cell_type": "code",
   "execution_count": 6,
   "id": "595a01b7",
   "metadata": {},
   "outputs": [
    {
     "name": "stdout",
     "output_type": "stream",
     "text": [
      "\n"
     ]
    },
    {
     "ename": "TypeError",
     "evalue": "only size-1 arrays can be converted to Python scalars",
     "output_type": "error",
     "traceback": [
      "\u001b[0;31m---------------------------------------------------------------------------\u001b[0m",
      "\u001b[0;31mTypeError\u001b[0m                                 Traceback (most recent call last)",
      "Input \u001b[0;32mIn [6]\u001b[0m, in \u001b[0;36m<cell line: 14>\u001b[0;34m()\u001b[0m\n\u001b[1;32m      9\u001b[0m result \u001b[38;5;241m=\u001b[39m lr\u001b[38;5;241m.\u001b[39mpredict(x_test)\n\u001b[1;32m     12\u001b[0m \u001b[38;5;66;03m# = np.array([[230.1,37.8,69.2]])\u001b[39;00m\n\u001b[1;32m     13\u001b[0m \u001b[38;5;66;03m#OUTPUT [uncomment & modify if required] \u001b[39;00m\n\u001b[0;32m---> 14\u001b[0m \u001b[38;5;28mprint\u001b[39m(\u001b[38;5;124;43m'\u001b[39;49m\u001b[38;5;132;43;01m%.2f\u001b[39;49;00m\u001b[38;5;124;43m'\u001b[39;49m\u001b[38;5;241;43m%\u001b[39;49m\u001b[43m \u001b[49m\u001b[43mresult\u001b[49m)\n",
      "\u001b[0;31mTypeError\u001b[0m: only size-1 arrays can be converted to Python scalars"
     ]
    }
   ],
   "source": [
    "#input for 3 floating point numbers denoting the Cost on TV, Radio and News Paper Advertisement respectively.\n",
    "x = [float(i) for i in input().split()]\n",
    "\n",
    "#NOTE: The variable \"x\" now contains the list of 3 floating point numbers denoting the Cost on TV, Radio and News Paper Advertisement respectively.\n",
    "\n",
    "#WRITE YOUR LOGIC HERE:\n",
    "x_new =np.array([[20.1,15.3,71.4]])\n",
    "\n",
    "result = lr.predict(x_test)\n",
    "\n",
    "\n",
    "# = np.array([[230.1,37.8,69.2]])\n",
    "#OUTPUT [uncomment & modify if required] \n",
    "print('%.2f'% result)"
   ]
  },
  {
   "cell_type": "code",
   "execution_count": 13,
   "id": "48d26db0",
   "metadata": {},
   "outputs": [
    {
     "name": "stdout",
     "output_type": "stream",
     "text": [
      "\n"
     ]
    }
   ],
   "source": [
    "#input for 3 floating point numbers denoting the Cost on TV, Radio and News Paper Advertisement respectively.\n",
    "x = [float(i) for i in input().split()]\n",
    "#NOTE: The variable \"x\" now contains the list of 3 floating point numbers denoting the Cost on TV, Radio and News Paper Advertisement respectively.\n",
    "\n",
    "#WRITE YOUR LOGIC HERE:\n",
    "x_test =np.array([[20.1,15.3,71.4]])\n"
   ]
  },
  {
   "cell_type": "code",
   "execution_count": 14,
   "id": "b65441bf",
   "metadata": {},
   "outputs": [],
   "source": [
    "#WRITE YOUR LOGIC HERE:\n",
    "x_test =np.array([[20.1,15.3,71.4]])"
   ]
  },
  {
   "cell_type": "code",
   "execution_count": 15,
   "id": "46b9a6aa",
   "metadata": {},
   "outputs": [],
   "source": [
    "x_test\n",
    "result = lr.predict(x_test)\n",
    "\n"
   ]
  },
  {
   "cell_type": "code",
   "execution_count": 16,
   "id": "da785492",
   "metadata": {},
   "outputs": [
    {
     "name": "stdout",
     "output_type": "stream",
     "text": [
      "6.05\n"
     ]
    }
   ],
   "source": [
    "print('%.2f'% result)"
   ]
  },
  {
   "cell_type": "code",
   "execution_count": 18,
   "id": "0193e5b2",
   "metadata": {},
   "outputs": [
    {
     "name": "stdout",
     "output_type": "stream",
     "text": [
      "0.9313258386427431\n"
     ]
    }
   ],
   "source": [
    "print(lr.score(x_train,Y_train ))"
   ]
  },
  {
   "cell_type": "code",
   "execution_count": 20,
   "id": "59774d67",
   "metadata": {},
   "outputs": [
    {
     "ename": "ValueError",
     "evalue": "Found input variables with inconsistent numbers of samples: [7, 1]",
     "output_type": "error",
     "traceback": [
      "\u001b[0;31m---------------------------------------------------------------------------\u001b[0m",
      "\u001b[0;31mValueError\u001b[0m                                Traceback (most recent call last)",
      "Input \u001b[0;32mIn [20]\u001b[0m, in \u001b[0;36m<cell line: 1>\u001b[0;34m()\u001b[0m\n\u001b[0;32m----> 1\u001b[0m \u001b[38;5;28mprint\u001b[39m(\u001b[43mlr\u001b[49m\u001b[38;5;241;43m.\u001b[39;49m\u001b[43mscore\u001b[49m\u001b[43m(\u001b[49m\u001b[43mx_test\u001b[49m\u001b[43m,\u001b[49m\u001b[43mY_test\u001b[49m\u001b[43m)\u001b[49m)\n",
      "File \u001b[0;32m~/opt/anaconda3/lib/python3.9/site-packages/sklearn/base.py:706\u001b[0m, in \u001b[0;36mRegressorMixin.score\u001b[0;34m(self, X, y, sample_weight)\u001b[0m\n\u001b[1;32m    703\u001b[0m \u001b[38;5;28;01mfrom\u001b[39;00m \u001b[38;5;21;01m.\u001b[39;00m\u001b[38;5;21;01mmetrics\u001b[39;00m \u001b[38;5;28;01mimport\u001b[39;00m r2_score\n\u001b[1;32m    705\u001b[0m y_pred \u001b[38;5;241m=\u001b[39m \u001b[38;5;28mself\u001b[39m\u001b[38;5;241m.\u001b[39mpredict(X)\n\u001b[0;32m--> 706\u001b[0m \u001b[38;5;28;01mreturn\u001b[39;00m \u001b[43mr2_score\u001b[49m\u001b[43m(\u001b[49m\u001b[43my\u001b[49m\u001b[43m,\u001b[49m\u001b[43m \u001b[49m\u001b[43my_pred\u001b[49m\u001b[43m,\u001b[49m\u001b[43m \u001b[49m\u001b[43msample_weight\u001b[49m\u001b[38;5;241;43m=\u001b[39;49m\u001b[43msample_weight\u001b[49m\u001b[43m)\u001b[49m\n",
      "File \u001b[0;32m~/opt/anaconda3/lib/python3.9/site-packages/sklearn/metrics/_regression.py:789\u001b[0m, in \u001b[0;36mr2_score\u001b[0;34m(y_true, y_pred, sample_weight, multioutput)\u001b[0m\n\u001b[1;32m    702\u001b[0m \u001b[38;5;28;01mdef\u001b[39;00m \u001b[38;5;21mr2_score\u001b[39m(y_true, y_pred, \u001b[38;5;241m*\u001b[39m, sample_weight\u001b[38;5;241m=\u001b[39m\u001b[38;5;28;01mNone\u001b[39;00m, multioutput\u001b[38;5;241m=\u001b[39m\u001b[38;5;124m\"\u001b[39m\u001b[38;5;124muniform_average\u001b[39m\u001b[38;5;124m\"\u001b[39m):\n\u001b[1;32m    703\u001b[0m     \u001b[38;5;124;03m\"\"\":math:`R^2` (coefficient of determination) regression score function.\u001b[39;00m\n\u001b[1;32m    704\u001b[0m \n\u001b[1;32m    705\u001b[0m \u001b[38;5;124;03m    Best possible score is 1.0 and it can be negative (because the\u001b[39;00m\n\u001b[0;32m   (...)\u001b[0m\n\u001b[1;32m    787\u001b[0m \u001b[38;5;124;03m    -3.0\u001b[39;00m\n\u001b[1;32m    788\u001b[0m \u001b[38;5;124;03m    \"\"\"\u001b[39;00m\n\u001b[0;32m--> 789\u001b[0m     y_type, y_true, y_pred, multioutput \u001b[38;5;241m=\u001b[39m \u001b[43m_check_reg_targets\u001b[49m\u001b[43m(\u001b[49m\n\u001b[1;32m    790\u001b[0m \u001b[43m        \u001b[49m\u001b[43my_true\u001b[49m\u001b[43m,\u001b[49m\u001b[43m \u001b[49m\u001b[43my_pred\u001b[49m\u001b[43m,\u001b[49m\u001b[43m \u001b[49m\u001b[43mmultioutput\u001b[49m\n\u001b[1;32m    791\u001b[0m \u001b[43m    \u001b[49m\u001b[43m)\u001b[49m\n\u001b[1;32m    792\u001b[0m     check_consistent_length(y_true, y_pred, sample_weight)\n\u001b[1;32m    794\u001b[0m     \u001b[38;5;28;01mif\u001b[39;00m _num_samples(y_pred) \u001b[38;5;241m<\u001b[39m \u001b[38;5;241m2\u001b[39m:\n",
      "File \u001b[0;32m~/opt/anaconda3/lib/python3.9/site-packages/sklearn/metrics/_regression.py:94\u001b[0m, in \u001b[0;36m_check_reg_targets\u001b[0;34m(y_true, y_pred, multioutput, dtype)\u001b[0m\n\u001b[1;32m     60\u001b[0m \u001b[38;5;28;01mdef\u001b[39;00m \u001b[38;5;21m_check_reg_targets\u001b[39m(y_true, y_pred, multioutput, dtype\u001b[38;5;241m=\u001b[39m\u001b[38;5;124m\"\u001b[39m\u001b[38;5;124mnumeric\u001b[39m\u001b[38;5;124m\"\u001b[39m):\n\u001b[1;32m     61\u001b[0m     \u001b[38;5;124;03m\"\"\"Check that y_true and y_pred belong to the same regression task.\u001b[39;00m\n\u001b[1;32m     62\u001b[0m \n\u001b[1;32m     63\u001b[0m \u001b[38;5;124;03m    Parameters\u001b[39;00m\n\u001b[0;32m   (...)\u001b[0m\n\u001b[1;32m     92\u001b[0m \u001b[38;5;124;03m        the dtype argument passed to check_array.\u001b[39;00m\n\u001b[1;32m     93\u001b[0m \u001b[38;5;124;03m    \"\"\"\u001b[39;00m\n\u001b[0;32m---> 94\u001b[0m     \u001b[43mcheck_consistent_length\u001b[49m\u001b[43m(\u001b[49m\u001b[43my_true\u001b[49m\u001b[43m,\u001b[49m\u001b[43m \u001b[49m\u001b[43my_pred\u001b[49m\u001b[43m)\u001b[49m\n\u001b[1;32m     95\u001b[0m     y_true \u001b[38;5;241m=\u001b[39m check_array(y_true, ensure_2d\u001b[38;5;241m=\u001b[39m\u001b[38;5;28;01mFalse\u001b[39;00m, dtype\u001b[38;5;241m=\u001b[39mdtype)\n\u001b[1;32m     96\u001b[0m     y_pred \u001b[38;5;241m=\u001b[39m check_array(y_pred, ensure_2d\u001b[38;5;241m=\u001b[39m\u001b[38;5;28;01mFalse\u001b[39;00m, dtype\u001b[38;5;241m=\u001b[39mdtype)\n",
      "File \u001b[0;32m~/opt/anaconda3/lib/python3.9/site-packages/sklearn/utils/validation.py:332\u001b[0m, in \u001b[0;36mcheck_consistent_length\u001b[0;34m(*arrays)\u001b[0m\n\u001b[1;32m    330\u001b[0m uniques \u001b[38;5;241m=\u001b[39m np\u001b[38;5;241m.\u001b[39munique(lengths)\n\u001b[1;32m    331\u001b[0m \u001b[38;5;28;01mif\u001b[39;00m \u001b[38;5;28mlen\u001b[39m(uniques) \u001b[38;5;241m>\u001b[39m \u001b[38;5;241m1\u001b[39m:\n\u001b[0;32m--> 332\u001b[0m     \u001b[38;5;28;01mraise\u001b[39;00m \u001b[38;5;167;01mValueError\u001b[39;00m(\n\u001b[1;32m    333\u001b[0m         \u001b[38;5;124m\"\u001b[39m\u001b[38;5;124mFound input variables with inconsistent numbers of samples: \u001b[39m\u001b[38;5;132;01m%r\u001b[39;00m\u001b[38;5;124m\"\u001b[39m\n\u001b[1;32m    334\u001b[0m         \u001b[38;5;241m%\u001b[39m [\u001b[38;5;28mint\u001b[39m(l) \u001b[38;5;28;01mfor\u001b[39;00m l \u001b[38;5;129;01min\u001b[39;00m lengths]\n\u001b[1;32m    335\u001b[0m     )\n",
      "\u001b[0;31mValueError\u001b[0m: Found input variables with inconsistent numbers of samples: [7, 1]"
     ]
    }
   ],
   "source": [
    "print(lr.score(x_test,Y_test))"
   ]
  },
  {
   "cell_type": "code",
   "execution_count": null,
   "id": "893f9148",
   "metadata": {},
   "outputs": [],
   "source": []
  }
 ],
 "metadata": {
  "kernelspec": {
   "display_name": "Python 3 (ipykernel)",
   "language": "python",
   "name": "python3"
  },
  "language_info": {
   "codemirror_mode": {
    "name": "ipython",
    "version": 3
   },
   "file_extension": ".py",
   "mimetype": "text/x-python",
   "name": "python",
   "nbconvert_exporter": "python",
   "pygments_lexer": "ipython3",
   "version": "3.9.12"
  }
 },
 "nbformat": 4,
 "nbformat_minor": 5
}
