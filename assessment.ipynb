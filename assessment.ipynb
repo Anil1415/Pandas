{
 "cells": [
  {
   "cell_type": "code",
   "execution_count": 47,
   "id": "1c52ab3e",
   "metadata": {},
   "outputs": [],
   "source": [
    "from sklearn.preprocessing import LabelEncoder\n",
    "labelencoder = LabelEncoder()\n",
    "from sklearn.preprocessing import OrdinalEncoder\n",
    "ordinalencoder = OrdinalEncoder()"
   ]
  },
  {
   "cell_type": "code",
   "execution_count": 3,
   "id": "59b16209",
   "metadata": {},
   "outputs": [],
   "source": [
    "x = ['Mahara','Tamil','Del','Karn','Guja','Utta']"
   ]
  },
  {
   "cell_type": "code",
   "execution_count": 10,
   "id": "ea203bab",
   "metadata": {},
   "outputs": [],
   "source": [
    "state_n = labelencoder.fit_transform(x)"
   ]
  },
  {
   "cell_type": "code",
   "execution_count": 11,
   "id": "5e090984",
   "metadata": {},
   "outputs": [
    {
     "data": {
      "text/plain": [
       "LabelEncoder()"
      ]
     },
     "execution_count": 11,
     "metadata": {},
     "output_type": "execute_result"
    }
   ],
   "source": [
    "labelencoder.fit(x)"
   ]
  },
  {
   "cell_type": "code",
   "execution_count": 13,
   "id": "420d6392",
   "metadata": {},
   "outputs": [],
   "source": [
    "target = labelencoder.transform(x)"
   ]
  },
  {
   "cell_type": "code",
   "execution_count": 14,
   "id": "771c11dc",
   "metadata": {},
   "outputs": [
    {
     "data": {
      "text/plain": [
       "array([3, 4, 0, 2, 1, 5])"
      ]
     },
     "execution_count": 14,
     "metadata": {},
     "output_type": "execute_result"
    }
   ],
   "source": [
    "target"
   ]
  },
  {
   "cell_type": "code",
   "execution_count": 15,
   "id": "c49c8cbb",
   "metadata": {},
   "outputs": [
    {
     "data": {
      "text/plain": [
       "array([3, 4, 0, 2, 1, 5])"
      ]
     },
     "execution_count": 15,
     "metadata": {},
     "output_type": "execute_result"
    }
   ],
   "source": [
    "state_n"
   ]
  },
  {
   "cell_type": "code",
   "execution_count": 16,
   "id": "07fcd77f",
   "metadata": {},
   "outputs": [],
   "source": [
    "import pandas as pd"
   ]
  },
  {
   "cell_type": "code",
   "execution_count": 21,
   "id": "3c64dad2",
   "metadata": {},
   "outputs": [
    {
     "data": {
      "text/html": [
       "<div>\n",
       "<style scoped>\n",
       "    .dataframe tbody tr th:only-of-type {\n",
       "        vertical-align: middle;\n",
       "    }\n",
       "\n",
       "    .dataframe tbody tr th {\n",
       "        vertical-align: top;\n",
       "    }\n",
       "\n",
       "    .dataframe thead th {\n",
       "        text-align: right;\n",
       "    }\n",
       "</style>\n",
       "<table border=\"1\" class=\"dataframe\">\n",
       "  <thead>\n",
       "    <tr style=\"text-align: right;\">\n",
       "      <th></th>\n",
       "      <th>Id</th>\n",
       "      <th>SepalLengthCm</th>\n",
       "      <th>SepalWidthCm</th>\n",
       "      <th>PetalLengthCm</th>\n",
       "      <th>PetalWidthCm</th>\n",
       "      <th>Species</th>\n",
       "    </tr>\n",
       "  </thead>\n",
       "  <tbody>\n",
       "    <tr>\n",
       "      <th>0</th>\n",
       "      <td>1</td>\n",
       "      <td>5.1</td>\n",
       "      <td>3.5</td>\n",
       "      <td>1.4</td>\n",
       "      <td>0.2</td>\n",
       "      <td>Iris-setosa</td>\n",
       "    </tr>\n",
       "    <tr>\n",
       "      <th>1</th>\n",
       "      <td>2</td>\n",
       "      <td>4.9</td>\n",
       "      <td>3.0</td>\n",
       "      <td>1.4</td>\n",
       "      <td>0.2</td>\n",
       "      <td>Iris-setosa</td>\n",
       "    </tr>\n",
       "    <tr>\n",
       "      <th>2</th>\n",
       "      <td>3</td>\n",
       "      <td>4.7</td>\n",
       "      <td>3.2</td>\n",
       "      <td>1.3</td>\n",
       "      <td>0.2</td>\n",
       "      <td>Iris-setosa</td>\n",
       "    </tr>\n",
       "    <tr>\n",
       "      <th>3</th>\n",
       "      <td>4</td>\n",
       "      <td>4.6</td>\n",
       "      <td>3.1</td>\n",
       "      <td>1.5</td>\n",
       "      <td>0.2</td>\n",
       "      <td>Iris-setosa</td>\n",
       "    </tr>\n",
       "    <tr>\n",
       "      <th>4</th>\n",
       "      <td>5</td>\n",
       "      <td>5.0</td>\n",
       "      <td>3.6</td>\n",
       "      <td>1.4</td>\n",
       "      <td>0.2</td>\n",
       "      <td>Iris-setosa</td>\n",
       "    </tr>\n",
       "    <tr>\n",
       "      <th>...</th>\n",
       "      <td>...</td>\n",
       "      <td>...</td>\n",
       "      <td>...</td>\n",
       "      <td>...</td>\n",
       "      <td>...</td>\n",
       "      <td>...</td>\n",
       "    </tr>\n",
       "    <tr>\n",
       "      <th>145</th>\n",
       "      <td>146</td>\n",
       "      <td>6.7</td>\n",
       "      <td>3.0</td>\n",
       "      <td>5.2</td>\n",
       "      <td>2.3</td>\n",
       "      <td>Iris-virginica</td>\n",
       "    </tr>\n",
       "    <tr>\n",
       "      <th>146</th>\n",
       "      <td>147</td>\n",
       "      <td>6.3</td>\n",
       "      <td>2.5</td>\n",
       "      <td>5.0</td>\n",
       "      <td>1.9</td>\n",
       "      <td>Iris-virginica</td>\n",
       "    </tr>\n",
       "    <tr>\n",
       "      <th>147</th>\n",
       "      <td>148</td>\n",
       "      <td>6.5</td>\n",
       "      <td>3.0</td>\n",
       "      <td>5.2</td>\n",
       "      <td>2.0</td>\n",
       "      <td>Iris-virginica</td>\n",
       "    </tr>\n",
       "    <tr>\n",
       "      <th>148</th>\n",
       "      <td>149</td>\n",
       "      <td>6.2</td>\n",
       "      <td>3.4</td>\n",
       "      <td>5.4</td>\n",
       "      <td>2.3</td>\n",
       "      <td>Iris-virginica</td>\n",
       "    </tr>\n",
       "    <tr>\n",
       "      <th>149</th>\n",
       "      <td>150</td>\n",
       "      <td>5.9</td>\n",
       "      <td>3.0</td>\n",
       "      <td>5.1</td>\n",
       "      <td>1.8</td>\n",
       "      <td>Iris-virginica</td>\n",
       "    </tr>\n",
       "  </tbody>\n",
       "</table>\n",
       "<p>150 rows × 6 columns</p>\n",
       "</div>"
      ],
      "text/plain": [
       "      Id  SepalLengthCm  SepalWidthCm  PetalLengthCm  PetalWidthCm  \\\n",
       "0      1            5.1           3.5            1.4           0.2   \n",
       "1      2            4.9           3.0            1.4           0.2   \n",
       "2      3            4.7           3.2            1.3           0.2   \n",
       "3      4            4.6           3.1            1.5           0.2   \n",
       "4      5            5.0           3.6            1.4           0.2   \n",
       "..   ...            ...           ...            ...           ...   \n",
       "145  146            6.7           3.0            5.2           2.3   \n",
       "146  147            6.3           2.5            5.0           1.9   \n",
       "147  148            6.5           3.0            5.2           2.0   \n",
       "148  149            6.2           3.4            5.4           2.3   \n",
       "149  150            5.9           3.0            5.1           1.8   \n",
       "\n",
       "            Species  \n",
       "0       Iris-setosa  \n",
       "1       Iris-setosa  \n",
       "2       Iris-setosa  \n",
       "3       Iris-setosa  \n",
       "4       Iris-setosa  \n",
       "..              ...  \n",
       "145  Iris-virginica  \n",
       "146  Iris-virginica  \n",
       "147  Iris-virginica  \n",
       "148  Iris-virginica  \n",
       "149  Iris-virginica  \n",
       "\n",
       "[150 rows x 6 columns]"
      ]
     },
     "execution_count": 21,
     "metadata": {},
     "output_type": "execute_result"
    }
   ],
   "source": [
    "pd.read_csv('https://raw.githubusercontent.com/venky14/Machine-Learning-with-Iris-Dataset/master/Iris.csv')"
   ]
  },
  {
   "cell_type": "code",
   "execution_count": 22,
   "id": "f6aeef93",
   "metadata": {},
   "outputs": [],
   "source": [
    "import numpy as np"
   ]
  },
  {
   "cell_type": "code",
   "execution_count": 23,
   "id": "01e69577",
   "metadata": {},
   "outputs": [],
   "source": [
    "df = pd.read_csv('https://raw.githubusercontent.com/venky14/Machine-Learning-with-Iris-Dataset/master/Iris.csv')"
   ]
  },
  {
   "cell_type": "code",
   "execution_count": 24,
   "id": "4401aca3",
   "metadata": {},
   "outputs": [
    {
     "data": {
      "text/plain": [
       "Index(['Id', 'SepalLengthCm', 'SepalWidthCm', 'PetalLengthCm', 'PetalWidthCm',\n",
       "       'Species'],\n",
       "      dtype='object')"
      ]
     },
     "execution_count": 24,
     "metadata": {},
     "output_type": "execute_result"
    }
   ],
   "source": [
    "df.columns"
   ]
  },
  {
   "cell_type": "code",
   "execution_count": 25,
   "id": "301ce5d4",
   "metadata": {},
   "outputs": [
    {
     "data": {
      "text/plain": [
       "<bound method Series.unique of 0         Iris-setosa\n",
       "1         Iris-setosa\n",
       "2         Iris-setosa\n",
       "3         Iris-setosa\n",
       "4         Iris-setosa\n",
       "            ...      \n",
       "145    Iris-virginica\n",
       "146    Iris-virginica\n",
       "147    Iris-virginica\n",
       "148    Iris-virginica\n",
       "149    Iris-virginica\n",
       "Name: Species, Length: 150, dtype: object>"
      ]
     },
     "execution_count": 25,
     "metadata": {},
     "output_type": "execute_result"
    }
   ],
   "source": [
    "df['Species'].unique"
   ]
  },
  {
   "cell_type": "code",
   "execution_count": 26,
   "id": "8267386e",
   "metadata": {},
   "outputs": [],
   "source": [
    "df['Species'] = labelencoder.fit_transform(df['Species'])"
   ]
  },
  {
   "cell_type": "code",
   "execution_count": 29,
   "id": "c075aade",
   "metadata": {},
   "outputs": [
    {
     "data": {
      "text/plain": [
       "array([0, 1, 2])"
      ]
     },
     "execution_count": 29,
     "metadata": {},
     "output_type": "execute_result"
    }
   ],
   "source": [
    "df['Species'].unique()"
   ]
  },
  {
   "cell_type": "code",
   "execution_count": 87,
   "id": "1ca152bb",
   "metadata": {},
   "outputs": [
    {
     "data": {
      "text/plain": [
       "Index(['Id', 'SepalLengthCm', 'SepalWidthCm', 'PetalLengthCm', 'PetalWidthCm',\n",
       "       'Species'],\n",
       "      dtype='object')"
      ]
     },
     "execution_count": 87,
     "metadata": {},
     "output_type": "execute_result"
    }
   ],
   "source": [
    "df.columns"
   ]
  },
  {
   "cell_type": "code",
   "execution_count": 1,
   "id": "14ff26cc",
   "metadata": {},
   "outputs": [],
   "source": [
    "from sklearn.datasets import load_iris\n",
    "#save data information as variable\n",
    "iris = load_iris()\n"
   ]
  },
  {
   "cell_type": "code",
   "execution_count": 2,
   "id": "694f13d3",
   "metadata": {},
   "outputs": [
    {
     "name": "stdout",
     "output_type": "stream",
     "text": [
      ".. _iris_dataset:\n",
      "\n",
      "Iris plants dataset\n",
      "--------------------\n",
      "\n",
      "**Data Set Characteristics:**\n",
      "\n",
      "    :Number of Instances: 150 (50 in each of three classes)\n",
      "    :Number of Attributes: 4 numeric, predictive attributes and the class\n",
      "    :Attribute Information:\n",
      "        - sepal length in cm\n",
      "        - sepal width in cm\n",
      "        - petal length in cm\n",
      "        - petal width in cm\n",
      "        - class:\n",
      "                - Iris-Setosa\n",
      "                - Iris-Versicolour\n",
      "                - Iris-Virginica\n",
      "                \n",
      "    :Summary Statistics:\n",
      "\n",
      "    ============== ==== ==== ======= ===== ====================\n",
      "                    Min  Max   Mean    SD   Class Correlation\n",
      "    ============== ==== ==== ======= ===== ====================\n",
      "    sepal length:   4.3  7.9   5.84   0.83    0.7826\n",
      "    sepal width:    2.0  4.4   3.05   0.43   -0.4194\n",
      "    petal length:   1.0  6.9   3.76   1.76    0.9490  (high!)\n",
      "    petal width:    0.1  2.5   1.20   0.76    0.9565  (high!)\n",
      "    ============== ==== ==== ======= ===== ====================\n",
      "\n",
      "    :Missing Attribute Values: None\n",
      "    :Class Distribution: 33.3% for each of 3 classes.\n",
      "    :Creator: R.A. Fisher\n",
      "    :Donor: Michael Marshall (MARSHALL%PLU@io.arc.nasa.gov)\n",
      "    :Date: July, 1988\n",
      "\n",
      "The famous Iris database, first used by Sir R.A. Fisher. The dataset is taken\n",
      "from Fisher's paper. Note that it's the same as in R, but not as in the UCI\n",
      "Machine Learning Repository, which has two wrong data points.\n",
      "\n",
      "This is perhaps the best known database to be found in the\n",
      "pattern recognition literature.  Fisher's paper is a classic in the field and\n",
      "is referenced frequently to this day.  (See Duda & Hart, for example.)  The\n",
      "data set contains 3 classes of 50 instances each, where each class refers to a\n",
      "type of iris plant.  One class is linearly separable from the other 2; the\n",
      "latter are NOT linearly separable from each other.\n",
      "\n",
      ".. topic:: References\n",
      "\n",
      "   - Fisher, R.A. \"The use of multiple measurements in taxonomic problems\"\n",
      "     Annual Eugenics, 7, Part II, 179-188 (1936); also in \"Contributions to\n",
      "     Mathematical Statistics\" (John Wiley, NY, 1950).\n",
      "   - Duda, R.O., & Hart, P.E. (1973) Pattern Classification and Scene Analysis.\n",
      "     (Q327.D83) John Wiley & Sons.  ISBN 0-471-22361-1.  See page 218.\n",
      "   - Dasarathy, B.V. (1980) \"Nosing Around the Neighborhood: A New System\n",
      "     Structure and Classification Rule for Recognition in Partially Exposed\n",
      "     Environments\".  IEEE Transactions on Pattern Analysis and Machine\n",
      "     Intelligence, Vol. PAMI-2, No. 1, 67-71.\n",
      "   - Gates, G.W. (1972) \"The Reduced Nearest Neighbor Rule\".  IEEE Transactions\n",
      "     on Information Theory, May 1972, 431-433.\n",
      "   - See also: 1988 MLC Proceedings, 54-64.  Cheeseman et al\"s AUTOCLASS II\n",
      "     conceptual clustering system finds 3 classes in the data.\n",
      "   - Many, many more ...\n"
     ]
    }
   ],
   "source": [
    "#view data description and information\n",
    "print(iris.DESCR)"
   ]
  },
  {
   "cell_type": "code",
   "execution_count": 4,
   "id": "b2fbb8c4",
   "metadata": {},
   "outputs": [
    {
     "data": {
      "text/plain": [
       "['sepal length (cm)',\n",
       " 'sepal width (cm)',\n",
       " 'petal length (cm)',\n",
       " 'petal width (cm)']"
      ]
     },
     "execution_count": 4,
     "metadata": {},
     "output_type": "execute_result"
    }
   ],
   "source": [
    "iris.feature_names"
   ]
  },
  {
   "cell_type": "code",
   "execution_count": 5,
   "id": "4165bcfe",
   "metadata": {},
   "outputs": [
    {
     "data": {
      "text/plain": [
       "array(['setosa', 'versicolor', 'virginica'], dtype='<U10')"
      ]
     },
     "execution_count": 5,
     "metadata": {},
     "output_type": "execute_result"
    }
   ],
   "source": [
    "iris.target_names"
   ]
  },
  {
   "cell_type": "code",
   "execution_count": 6,
   "id": "c99dab7b",
   "metadata": {},
   "outputs": [
    {
     "data": {
      "text/plain": [
       "{'data': array([[5.1, 3.5, 1.4, 0.2],\n",
       "        [4.9, 3. , 1.4, 0.2],\n",
       "        [4.7, 3.2, 1.3, 0.2],\n",
       "        [4.6, 3.1, 1.5, 0.2],\n",
       "        [5. , 3.6, 1.4, 0.2],\n",
       "        [5.4, 3.9, 1.7, 0.4],\n",
       "        [4.6, 3.4, 1.4, 0.3],\n",
       "        [5. , 3.4, 1.5, 0.2],\n",
       "        [4.4, 2.9, 1.4, 0.2],\n",
       "        [4.9, 3.1, 1.5, 0.1],\n",
       "        [5.4, 3.7, 1.5, 0.2],\n",
       "        [4.8, 3.4, 1.6, 0.2],\n",
       "        [4.8, 3. , 1.4, 0.1],\n",
       "        [4.3, 3. , 1.1, 0.1],\n",
       "        [5.8, 4. , 1.2, 0.2],\n",
       "        [5.7, 4.4, 1.5, 0.4],\n",
       "        [5.4, 3.9, 1.3, 0.4],\n",
       "        [5.1, 3.5, 1.4, 0.3],\n",
       "        [5.7, 3.8, 1.7, 0.3],\n",
       "        [5.1, 3.8, 1.5, 0.3],\n",
       "        [5.4, 3.4, 1.7, 0.2],\n",
       "        [5.1, 3.7, 1.5, 0.4],\n",
       "        [4.6, 3.6, 1. , 0.2],\n",
       "        [5.1, 3.3, 1.7, 0.5],\n",
       "        [4.8, 3.4, 1.9, 0.2],\n",
       "        [5. , 3. , 1.6, 0.2],\n",
       "        [5. , 3.4, 1.6, 0.4],\n",
       "        [5.2, 3.5, 1.5, 0.2],\n",
       "        [5.2, 3.4, 1.4, 0.2],\n",
       "        [4.7, 3.2, 1.6, 0.2],\n",
       "        [4.8, 3.1, 1.6, 0.2],\n",
       "        [5.4, 3.4, 1.5, 0.4],\n",
       "        [5.2, 4.1, 1.5, 0.1],\n",
       "        [5.5, 4.2, 1.4, 0.2],\n",
       "        [4.9, 3.1, 1.5, 0.2],\n",
       "        [5. , 3.2, 1.2, 0.2],\n",
       "        [5.5, 3.5, 1.3, 0.2],\n",
       "        [4.9, 3.6, 1.4, 0.1],\n",
       "        [4.4, 3. , 1.3, 0.2],\n",
       "        [5.1, 3.4, 1.5, 0.2],\n",
       "        [5. , 3.5, 1.3, 0.3],\n",
       "        [4.5, 2.3, 1.3, 0.3],\n",
       "        [4.4, 3.2, 1.3, 0.2],\n",
       "        [5. , 3.5, 1.6, 0.6],\n",
       "        [5.1, 3.8, 1.9, 0.4],\n",
       "        [4.8, 3. , 1.4, 0.3],\n",
       "        [5.1, 3.8, 1.6, 0.2],\n",
       "        [4.6, 3.2, 1.4, 0.2],\n",
       "        [5.3, 3.7, 1.5, 0.2],\n",
       "        [5. , 3.3, 1.4, 0.2],\n",
       "        [7. , 3.2, 4.7, 1.4],\n",
       "        [6.4, 3.2, 4.5, 1.5],\n",
       "        [6.9, 3.1, 4.9, 1.5],\n",
       "        [5.5, 2.3, 4. , 1.3],\n",
       "        [6.5, 2.8, 4.6, 1.5],\n",
       "        [5.7, 2.8, 4.5, 1.3],\n",
       "        [6.3, 3.3, 4.7, 1.6],\n",
       "        [4.9, 2.4, 3.3, 1. ],\n",
       "        [6.6, 2.9, 4.6, 1.3],\n",
       "        [5.2, 2.7, 3.9, 1.4],\n",
       "        [5. , 2. , 3.5, 1. ],\n",
       "        [5.9, 3. , 4.2, 1.5],\n",
       "        [6. , 2.2, 4. , 1. ],\n",
       "        [6.1, 2.9, 4.7, 1.4],\n",
       "        [5.6, 2.9, 3.6, 1.3],\n",
       "        [6.7, 3.1, 4.4, 1.4],\n",
       "        [5.6, 3. , 4.5, 1.5],\n",
       "        [5.8, 2.7, 4.1, 1. ],\n",
       "        [6.2, 2.2, 4.5, 1.5],\n",
       "        [5.6, 2.5, 3.9, 1.1],\n",
       "        [5.9, 3.2, 4.8, 1.8],\n",
       "        [6.1, 2.8, 4. , 1.3],\n",
       "        [6.3, 2.5, 4.9, 1.5],\n",
       "        [6.1, 2.8, 4.7, 1.2],\n",
       "        [6.4, 2.9, 4.3, 1.3],\n",
       "        [6.6, 3. , 4.4, 1.4],\n",
       "        [6.8, 2.8, 4.8, 1.4],\n",
       "        [6.7, 3. , 5. , 1.7],\n",
       "        [6. , 2.9, 4.5, 1.5],\n",
       "        [5.7, 2.6, 3.5, 1. ],\n",
       "        [5.5, 2.4, 3.8, 1.1],\n",
       "        [5.5, 2.4, 3.7, 1. ],\n",
       "        [5.8, 2.7, 3.9, 1.2],\n",
       "        [6. , 2.7, 5.1, 1.6],\n",
       "        [5.4, 3. , 4.5, 1.5],\n",
       "        [6. , 3.4, 4.5, 1.6],\n",
       "        [6.7, 3.1, 4.7, 1.5],\n",
       "        [6.3, 2.3, 4.4, 1.3],\n",
       "        [5.6, 3. , 4.1, 1.3],\n",
       "        [5.5, 2.5, 4. , 1.3],\n",
       "        [5.5, 2.6, 4.4, 1.2],\n",
       "        [6.1, 3. , 4.6, 1.4],\n",
       "        [5.8, 2.6, 4. , 1.2],\n",
       "        [5. , 2.3, 3.3, 1. ],\n",
       "        [5.6, 2.7, 4.2, 1.3],\n",
       "        [5.7, 3. , 4.2, 1.2],\n",
       "        [5.7, 2.9, 4.2, 1.3],\n",
       "        [6.2, 2.9, 4.3, 1.3],\n",
       "        [5.1, 2.5, 3. , 1.1],\n",
       "        [5.7, 2.8, 4.1, 1.3],\n",
       "        [6.3, 3.3, 6. , 2.5],\n",
       "        [5.8, 2.7, 5.1, 1.9],\n",
       "        [7.1, 3. , 5.9, 2.1],\n",
       "        [6.3, 2.9, 5.6, 1.8],\n",
       "        [6.5, 3. , 5.8, 2.2],\n",
       "        [7.6, 3. , 6.6, 2.1],\n",
       "        [4.9, 2.5, 4.5, 1.7],\n",
       "        [7.3, 2.9, 6.3, 1.8],\n",
       "        [6.7, 2.5, 5.8, 1.8],\n",
       "        [7.2, 3.6, 6.1, 2.5],\n",
       "        [6.5, 3.2, 5.1, 2. ],\n",
       "        [6.4, 2.7, 5.3, 1.9],\n",
       "        [6.8, 3. , 5.5, 2.1],\n",
       "        [5.7, 2.5, 5. , 2. ],\n",
       "        [5.8, 2.8, 5.1, 2.4],\n",
       "        [6.4, 3.2, 5.3, 2.3],\n",
       "        [6.5, 3. , 5.5, 1.8],\n",
       "        [7.7, 3.8, 6.7, 2.2],\n",
       "        [7.7, 2.6, 6.9, 2.3],\n",
       "        [6. , 2.2, 5. , 1.5],\n",
       "        [6.9, 3.2, 5.7, 2.3],\n",
       "        [5.6, 2.8, 4.9, 2. ],\n",
       "        [7.7, 2.8, 6.7, 2. ],\n",
       "        [6.3, 2.7, 4.9, 1.8],\n",
       "        [6.7, 3.3, 5.7, 2.1],\n",
       "        [7.2, 3.2, 6. , 1.8],\n",
       "        [6.2, 2.8, 4.8, 1.8],\n",
       "        [6.1, 3. , 4.9, 1.8],\n",
       "        [6.4, 2.8, 5.6, 2.1],\n",
       "        [7.2, 3. , 5.8, 1.6],\n",
       "        [7.4, 2.8, 6.1, 1.9],\n",
       "        [7.9, 3.8, 6.4, 2. ],\n",
       "        [6.4, 2.8, 5.6, 2.2],\n",
       "        [6.3, 2.8, 5.1, 1.5],\n",
       "        [6.1, 2.6, 5.6, 1.4],\n",
       "        [7.7, 3. , 6.1, 2.3],\n",
       "        [6.3, 3.4, 5.6, 2.4],\n",
       "        [6.4, 3.1, 5.5, 1.8],\n",
       "        [6. , 3. , 4.8, 1.8],\n",
       "        [6.9, 3.1, 5.4, 2.1],\n",
       "        [6.7, 3.1, 5.6, 2.4],\n",
       "        [6.9, 3.1, 5.1, 2.3],\n",
       "        [5.8, 2.7, 5.1, 1.9],\n",
       "        [6.8, 3.2, 5.9, 2.3],\n",
       "        [6.7, 3.3, 5.7, 2.5],\n",
       "        [6.7, 3. , 5.2, 2.3],\n",
       "        [6.3, 2.5, 5. , 1.9],\n",
       "        [6.5, 3. , 5.2, 2. ],\n",
       "        [6.2, 3.4, 5.4, 2.3],\n",
       "        [5.9, 3. , 5.1, 1.8]]),\n",
       " 'target': array([0, 0, 0, 0, 0, 0, 0, 0, 0, 0, 0, 0, 0, 0, 0, 0, 0, 0, 0, 0, 0, 0,\n",
       "        0, 0, 0, 0, 0, 0, 0, 0, 0, 0, 0, 0, 0, 0, 0, 0, 0, 0, 0, 0, 0, 0,\n",
       "        0, 0, 0, 0, 0, 0, 1, 1, 1, 1, 1, 1, 1, 1, 1, 1, 1, 1, 1, 1, 1, 1,\n",
       "        1, 1, 1, 1, 1, 1, 1, 1, 1, 1, 1, 1, 1, 1, 1, 1, 1, 1, 1, 1, 1, 1,\n",
       "        1, 1, 1, 1, 1, 1, 1, 1, 1, 1, 1, 1, 2, 2, 2, 2, 2, 2, 2, 2, 2, 2,\n",
       "        2, 2, 2, 2, 2, 2, 2, 2, 2, 2, 2, 2, 2, 2, 2, 2, 2, 2, 2, 2, 2, 2,\n",
       "        2, 2, 2, 2, 2, 2, 2, 2, 2, 2, 2, 2, 2, 2, 2, 2, 2, 2]),\n",
       " 'frame': None,\n",
       " 'target_names': array(['setosa', 'versicolor', 'virginica'], dtype='<U10'),\n",
       " 'DESCR': '.. _iris_dataset:\\n\\nIris plants dataset\\n--------------------\\n\\n**Data Set Characteristics:**\\n\\n    :Number of Instances: 150 (50 in each of three classes)\\n    :Number of Attributes: 4 numeric, predictive attributes and the class\\n    :Attribute Information:\\n        - sepal length in cm\\n        - sepal width in cm\\n        - petal length in cm\\n        - petal width in cm\\n        - class:\\n                - Iris-Setosa\\n                - Iris-Versicolour\\n                - Iris-Virginica\\n                \\n    :Summary Statistics:\\n\\n    ============== ==== ==== ======= ===== ====================\\n                    Min  Max   Mean    SD   Class Correlation\\n    ============== ==== ==== ======= ===== ====================\\n    sepal length:   4.3  7.9   5.84   0.83    0.7826\\n    sepal width:    2.0  4.4   3.05   0.43   -0.4194\\n    petal length:   1.0  6.9   3.76   1.76    0.9490  (high!)\\n    petal width:    0.1  2.5   1.20   0.76    0.9565  (high!)\\n    ============== ==== ==== ======= ===== ====================\\n\\n    :Missing Attribute Values: None\\n    :Class Distribution: 33.3% for each of 3 classes.\\n    :Creator: R.A. Fisher\\n    :Donor: Michael Marshall (MARSHALL%PLU@io.arc.nasa.gov)\\n    :Date: July, 1988\\n\\nThe famous Iris database, first used by Sir R.A. Fisher. The dataset is taken\\nfrom Fisher\\'s paper. Note that it\\'s the same as in R, but not as in the UCI\\nMachine Learning Repository, which has two wrong data points.\\n\\nThis is perhaps the best known database to be found in the\\npattern recognition literature.  Fisher\\'s paper is a classic in the field and\\nis referenced frequently to this day.  (See Duda & Hart, for example.)  The\\ndata set contains 3 classes of 50 instances each, where each class refers to a\\ntype of iris plant.  One class is linearly separable from the other 2; the\\nlatter are NOT linearly separable from each other.\\n\\n.. topic:: References\\n\\n   - Fisher, R.A. \"The use of multiple measurements in taxonomic problems\"\\n     Annual Eugenics, 7, Part II, 179-188 (1936); also in \"Contributions to\\n     Mathematical Statistics\" (John Wiley, NY, 1950).\\n   - Duda, R.O., & Hart, P.E. (1973) Pattern Classification and Scene Analysis.\\n     (Q327.D83) John Wiley & Sons.  ISBN 0-471-22361-1.  See page 218.\\n   - Dasarathy, B.V. (1980) \"Nosing Around the Neighborhood: A New System\\n     Structure and Classification Rule for Recognition in Partially Exposed\\n     Environments\".  IEEE Transactions on Pattern Analysis and Machine\\n     Intelligence, Vol. PAMI-2, No. 1, 67-71.\\n   - Gates, G.W. (1972) \"The Reduced Nearest Neighbor Rule\".  IEEE Transactions\\n     on Information Theory, May 1972, 431-433.\\n   - See also: 1988 MLC Proceedings, 54-64.  Cheeseman et al\"s AUTOCLASS II\\n     conceptual clustering system finds 3 classes in the data.\\n   - Many, many more ...',\n",
       " 'feature_names': ['sepal length (cm)',\n",
       "  'sepal width (cm)',\n",
       "  'petal length (cm)',\n",
       "  'petal width (cm)'],\n",
       " 'filename': 'iris.csv',\n",
       " 'data_module': 'sklearn.datasets.data'}"
      ]
     },
     "execution_count": 6,
     "metadata": {},
     "output_type": "execute_result"
    }
   ],
   "source": [
    "iris"
   ]
  },
  {
   "cell_type": "code",
   "execution_count": 7,
   "id": "02022c6a",
   "metadata": {},
   "outputs": [],
   "source": [
    "import pandas as pd"
   ]
  },
  {
   "cell_type": "code",
   "execution_count": 11,
   "id": "d8ed089d",
   "metadata": {},
   "outputs": [],
   "source": [
    "data = pd.DataFrame(iris.data)"
   ]
  },
  {
   "cell_type": "code",
   "execution_count": 12,
   "id": "cc12cb70",
   "metadata": {},
   "outputs": [
    {
     "data": {
      "text/html": [
       "<div>\n",
       "<style scoped>\n",
       "    .dataframe tbody tr th:only-of-type {\n",
       "        vertical-align: middle;\n",
       "    }\n",
       "\n",
       "    .dataframe tbody tr th {\n",
       "        vertical-align: top;\n",
       "    }\n",
       "\n",
       "    .dataframe thead th {\n",
       "        text-align: right;\n",
       "    }\n",
       "</style>\n",
       "<table border=\"1\" class=\"dataframe\">\n",
       "  <thead>\n",
       "    <tr style=\"text-align: right;\">\n",
       "      <th></th>\n",
       "      <th>0</th>\n",
       "      <th>1</th>\n",
       "      <th>2</th>\n",
       "      <th>3</th>\n",
       "    </tr>\n",
       "  </thead>\n",
       "  <tbody>\n",
       "    <tr>\n",
       "      <th>0</th>\n",
       "      <td>5.1</td>\n",
       "      <td>3.5</td>\n",
       "      <td>1.4</td>\n",
       "      <td>0.2</td>\n",
       "    </tr>\n",
       "    <tr>\n",
       "      <th>1</th>\n",
       "      <td>4.9</td>\n",
       "      <td>3.0</td>\n",
       "      <td>1.4</td>\n",
       "      <td>0.2</td>\n",
       "    </tr>\n",
       "    <tr>\n",
       "      <th>2</th>\n",
       "      <td>4.7</td>\n",
       "      <td>3.2</td>\n",
       "      <td>1.3</td>\n",
       "      <td>0.2</td>\n",
       "    </tr>\n",
       "    <tr>\n",
       "      <th>3</th>\n",
       "      <td>4.6</td>\n",
       "      <td>3.1</td>\n",
       "      <td>1.5</td>\n",
       "      <td>0.2</td>\n",
       "    </tr>\n",
       "    <tr>\n",
       "      <th>4</th>\n",
       "      <td>5.0</td>\n",
       "      <td>3.6</td>\n",
       "      <td>1.4</td>\n",
       "      <td>0.2</td>\n",
       "    </tr>\n",
       "    <tr>\n",
       "      <th>...</th>\n",
       "      <td>...</td>\n",
       "      <td>...</td>\n",
       "      <td>...</td>\n",
       "      <td>...</td>\n",
       "    </tr>\n",
       "    <tr>\n",
       "      <th>145</th>\n",
       "      <td>6.7</td>\n",
       "      <td>3.0</td>\n",
       "      <td>5.2</td>\n",
       "      <td>2.3</td>\n",
       "    </tr>\n",
       "    <tr>\n",
       "      <th>146</th>\n",
       "      <td>6.3</td>\n",
       "      <td>2.5</td>\n",
       "      <td>5.0</td>\n",
       "      <td>1.9</td>\n",
       "    </tr>\n",
       "    <tr>\n",
       "      <th>147</th>\n",
       "      <td>6.5</td>\n",
       "      <td>3.0</td>\n",
       "      <td>5.2</td>\n",
       "      <td>2.0</td>\n",
       "    </tr>\n",
       "    <tr>\n",
       "      <th>148</th>\n",
       "      <td>6.2</td>\n",
       "      <td>3.4</td>\n",
       "      <td>5.4</td>\n",
       "      <td>2.3</td>\n",
       "    </tr>\n",
       "    <tr>\n",
       "      <th>149</th>\n",
       "      <td>5.9</td>\n",
       "      <td>3.0</td>\n",
       "      <td>5.1</td>\n",
       "      <td>1.8</td>\n",
       "    </tr>\n",
       "  </tbody>\n",
       "</table>\n",
       "<p>150 rows × 4 columns</p>\n",
       "</div>"
      ],
      "text/plain": [
       "       0    1    2    3\n",
       "0    5.1  3.5  1.4  0.2\n",
       "1    4.9  3.0  1.4  0.2\n",
       "2    4.7  3.2  1.3  0.2\n",
       "3    4.6  3.1  1.5  0.2\n",
       "4    5.0  3.6  1.4  0.2\n",
       "..   ...  ...  ...  ...\n",
       "145  6.7  3.0  5.2  2.3\n",
       "146  6.3  2.5  5.0  1.9\n",
       "147  6.5  3.0  5.2  2.0\n",
       "148  6.2  3.4  5.4  2.3\n",
       "149  5.9  3.0  5.1  1.8\n",
       "\n",
       "[150 rows x 4 columns]"
      ]
     },
     "execution_count": 12,
     "metadata": {},
     "output_type": "execute_result"
    }
   ],
   "source": [
    "data"
   ]
  },
  {
   "cell_type": "code",
   "execution_count": 13,
   "id": "f7cc3fb8",
   "metadata": {},
   "outputs": [
    {
     "data": {
      "text/html": [
       "<div>\n",
       "<style scoped>\n",
       "    .dataframe tbody tr th:only-of-type {\n",
       "        vertical-align: middle;\n",
       "    }\n",
       "\n",
       "    .dataframe tbody tr th {\n",
       "        vertical-align: top;\n",
       "    }\n",
       "\n",
       "    .dataframe thead th {\n",
       "        text-align: right;\n",
       "    }\n",
       "</style>\n",
       "<table border=\"1\" class=\"dataframe\">\n",
       "  <thead>\n",
       "    <tr style=\"text-align: right;\">\n",
       "      <th></th>\n",
       "      <th>sepal_length</th>\n",
       "      <th>sepal_width</th>\n",
       "      <th>petal_length</th>\n",
       "      <th>petal_width</th>\n",
       "    </tr>\n",
       "  </thead>\n",
       "  <tbody>\n",
       "    <tr>\n",
       "      <th>0</th>\n",
       "      <td>5.1</td>\n",
       "      <td>3.5</td>\n",
       "      <td>1.4</td>\n",
       "      <td>0.2</td>\n",
       "    </tr>\n",
       "    <tr>\n",
       "      <th>1</th>\n",
       "      <td>4.9</td>\n",
       "      <td>3.0</td>\n",
       "      <td>1.4</td>\n",
       "      <td>0.2</td>\n",
       "    </tr>\n",
       "    <tr>\n",
       "      <th>2</th>\n",
       "      <td>4.7</td>\n",
       "      <td>3.2</td>\n",
       "      <td>1.3</td>\n",
       "      <td>0.2</td>\n",
       "    </tr>\n",
       "    <tr>\n",
       "      <th>3</th>\n",
       "      <td>4.6</td>\n",
       "      <td>3.1</td>\n",
       "      <td>1.5</td>\n",
       "      <td>0.2</td>\n",
       "    </tr>\n",
       "    <tr>\n",
       "      <th>4</th>\n",
       "      <td>5.0</td>\n",
       "      <td>3.6</td>\n",
       "      <td>1.4</td>\n",
       "      <td>0.2</td>\n",
       "    </tr>\n",
       "  </tbody>\n",
       "</table>\n",
       "</div>"
      ],
      "text/plain": [
       "   sepal_length  sepal_width  petal_length  petal_width\n",
       "0           5.1          3.5           1.4          0.2\n",
       "1           4.9          3.0           1.4          0.2\n",
       "2           4.7          3.2           1.3          0.2\n",
       "3           4.6          3.1           1.5          0.2\n",
       "4           5.0          3.6           1.4          0.2"
      ]
     },
     "execution_count": 13,
     "metadata": {},
     "output_type": "execute_result"
    }
   ],
   "source": [
    "data.columns = ['sepal_length', 'sepal_width', 'petal_length', 'petal_width']\n",
    "#note: it is common practice to use underscores between words, and avoid spaces\n",
    "data.head()"
   ]
  },
  {
   "cell_type": "code",
   "execution_count": 14,
   "id": "f14c94e2",
   "metadata": {},
   "outputs": [],
   "source": [
    "target = pd.DataFrame(iris.target)"
   ]
  },
  {
   "cell_type": "code",
   "execution_count": 15,
   "id": "378d0c12",
   "metadata": {},
   "outputs": [],
   "source": [
    "target = target.rename(columns={0:'target'})"
   ]
  },
  {
   "cell_type": "raw",
   "id": "9515d48d",
   "metadata": {},
   "source": []
  },
  {
   "cell_type": "code",
   "execution_count": 17,
   "id": "43bc6915",
   "metadata": {},
   "outputs": [
    {
     "data": {
      "text/html": [
       "<div>\n",
       "<style scoped>\n",
       "    .dataframe tbody tr th:only-of-type {\n",
       "        vertical-align: middle;\n",
       "    }\n",
       "\n",
       "    .dataframe tbody tr th {\n",
       "        vertical-align: top;\n",
       "    }\n",
       "\n",
       "    .dataframe thead th {\n",
       "        text-align: right;\n",
       "    }\n",
       "</style>\n",
       "<table border=\"1\" class=\"dataframe\">\n",
       "  <thead>\n",
       "    <tr style=\"text-align: right;\">\n",
       "      <th></th>\n",
       "      <th>target</th>\n",
       "    </tr>\n",
       "  </thead>\n",
       "  <tbody>\n",
       "    <tr>\n",
       "      <th>0</th>\n",
       "      <td>0</td>\n",
       "    </tr>\n",
       "    <tr>\n",
       "      <th>1</th>\n",
       "      <td>0</td>\n",
       "    </tr>\n",
       "    <tr>\n",
       "      <th>2</th>\n",
       "      <td>0</td>\n",
       "    </tr>\n",
       "    <tr>\n",
       "      <th>3</th>\n",
       "      <td>0</td>\n",
       "    </tr>\n",
       "    <tr>\n",
       "      <th>4</th>\n",
       "      <td>0</td>\n",
       "    </tr>\n",
       "  </tbody>\n",
       "</table>\n",
       "</div>"
      ],
      "text/plain": [
       "   target\n",
       "0       0\n",
       "1       0\n",
       "2       0\n",
       "3       0\n",
       "4       0"
      ]
     },
     "execution_count": 17,
     "metadata": {},
     "output_type": "execute_result"
    }
   ],
   "source": [
    "target.head()"
   ]
  },
  {
   "cell_type": "code",
   "execution_count": 20,
   "id": "a06601c9",
   "metadata": {},
   "outputs": [],
   "source": [
    "from sklearn.linear_model import LinearRegression\n",
    "lr = LinearRegression()"
   ]
  },
  {
   "cell_type": "code",
   "execution_count": 22,
   "id": "7da1e7dc",
   "metadata": {},
   "outputs": [],
   "source": [
    "from sklearn.model_selection import train_test_split\n",
    "X_train, X_test, y_train, y_test = train_test_split(\n",
    " iris['data'], iris['target'], random_state=0)"
   ]
  },
  {
   "cell_type": "code",
   "execution_count": 23,
   "id": "60732443",
   "metadata": {},
   "outputs": [
    {
     "data": {
      "text/plain": [
       "LinearRegression()"
      ]
     },
     "execution_count": 23,
     "metadata": {},
     "output_type": "execute_result"
    }
   ],
   "source": [
    "lr.fit(X_train, y_train)"
   ]
  },
  {
   "cell_type": "code",
   "execution_count": 25,
   "id": "e25067b2",
   "metadata": {},
   "outputs": [],
   "source": [
    "import numpy as np"
   ]
  },
  {
   "cell_type": "code",
   "execution_count": null,
   "id": "a9f6ccee",
   "metadata": {},
   "outputs": [],
   "source": []
  },
  {
   "cell_type": "code",
   "execution_count": 31,
   "id": "8b900332",
   "metadata": {},
   "outputs": [
    {
     "name": "stdout",
     "output_type": "stream",
     "text": [
      "X_new.shape: (1, 4)\n"
     ]
    }
   ],
   "source": [
    "X_new = np.array([[5, 2.9, 8, 0.2]])\n",
    "print(\"X_new.shape: {}\".format(X_new.shape))"
   ]
  },
  {
   "cell_type": "code",
   "execution_count": 32,
   "id": "4b1964c3",
   "metadata": {},
   "outputs": [
    {
     "name": "stdout",
     "output_type": "stream",
     "text": [
      "Prediction: [1.71057535]\n"
     ]
    }
   ],
   "source": [
    "prediction = lr.predict(X_new)\n",
    "print(\"Prediction: {}\".format(prediction))\n",
    "# print(\"Predicted target name: {}\".format(iris['target'][prediction]))"
   ]
  },
  {
   "cell_type": "code",
   "execution_count": null,
   "id": "47d1d734",
   "metadata": {},
   "outputs": [],
   "source": []
  },
  {
   "cell_type": "code",
   "execution_count": null,
   "id": "be29e949",
   "metadata": {},
   "outputs": [],
   "source": []
  },
  {
   "cell_type": "code",
   "execution_count": null,
   "id": "d845b9fc",
   "metadata": {},
   "outputs": [],
   "source": []
  },
  {
   "cell_type": "code",
   "execution_count": null,
   "id": "dafbb864",
   "metadata": {},
   "outputs": [],
   "source": []
  },
  {
   "cell_type": "code",
   "execution_count": null,
   "id": "e8d64443",
   "metadata": {},
   "outputs": [],
   "source": []
  },
  {
   "cell_type": "code",
   "execution_count": null,
   "id": "f2c976be",
   "metadata": {},
   "outputs": [],
   "source": []
  },
  {
   "cell_type": "code",
   "execution_count": 35,
   "id": "e08cc384",
   "metadata": {},
   "outputs": [],
   "source": [
    "states_df =  pd.DataFrame(x, columns=['x'])"
   ]
  },
  {
   "cell_type": "code",
   "execution_count": 32,
   "id": "61db1765",
   "metadata": {},
   "outputs": [
    {
     "data": {
      "text/html": [
       "<div>\n",
       "<style scoped>\n",
       "    .dataframe tbody tr th:only-of-type {\n",
       "        vertical-align: middle;\n",
       "    }\n",
       "\n",
       "    .dataframe tbody tr th {\n",
       "        vertical-align: top;\n",
       "    }\n",
       "\n",
       "    .dataframe thead th {\n",
       "        text-align: right;\n",
       "    }\n",
       "</style>\n",
       "<table border=\"1\" class=\"dataframe\">\n",
       "  <thead>\n",
       "    <tr style=\"text-align: right;\">\n",
       "      <th></th>\n",
       "      <th>x</th>\n",
       "    </tr>\n",
       "  </thead>\n",
       "  <tbody>\n",
       "    <tr>\n",
       "      <th>0</th>\n",
       "      <td>Mahara</td>\n",
       "    </tr>\n",
       "    <tr>\n",
       "      <th>1</th>\n",
       "      <td>Tamil</td>\n",
       "    </tr>\n",
       "    <tr>\n",
       "      <th>2</th>\n",
       "      <td>Del</td>\n",
       "    </tr>\n",
       "    <tr>\n",
       "      <th>3</th>\n",
       "      <td>Karn</td>\n",
       "    </tr>\n",
       "    <tr>\n",
       "      <th>4</th>\n",
       "      <td>Guja</td>\n",
       "    </tr>\n",
       "    <tr>\n",
       "      <th>5</th>\n",
       "      <td>Utta</td>\n",
       "    </tr>\n",
       "  </tbody>\n",
       "</table>\n",
       "</div>"
      ],
      "text/plain": [
       "        x\n",
       "0  Mahara\n",
       "1   Tamil\n",
       "2     Del\n",
       "3    Karn\n",
       "4    Guja\n",
       "5    Utta"
      ]
     },
     "execution_count": 32,
     "metadata": {},
     "output_type": "execute_result"
    }
   ],
   "source": [
    "states_df \n"
   ]
  },
  {
   "cell_type": "code",
   "execution_count": 33,
   "id": "af906be2",
   "metadata": {},
   "outputs": [],
   "source": [
    "states_df['x']= states_df['x'].astype('category')"
   ]
  },
  {
   "cell_type": "code",
   "execution_count": 36,
   "id": "01e3c8bf",
   "metadata": {},
   "outputs": [
    {
     "data": {
      "text/html": [
       "<div>\n",
       "<style scoped>\n",
       "    .dataframe tbody tr th:only-of-type {\n",
       "        vertical-align: middle;\n",
       "    }\n",
       "\n",
       "    .dataframe tbody tr th {\n",
       "        vertical-align: top;\n",
       "    }\n",
       "\n",
       "    .dataframe thead th {\n",
       "        text-align: right;\n",
       "    }\n",
       "</style>\n",
       "<table border=\"1\" class=\"dataframe\">\n",
       "  <thead>\n",
       "    <tr style=\"text-align: right;\">\n",
       "      <th></th>\n",
       "      <th>x</th>\n",
       "    </tr>\n",
       "  </thead>\n",
       "  <tbody>\n",
       "    <tr>\n",
       "      <th>0</th>\n",
       "      <td>Mahara</td>\n",
       "    </tr>\n",
       "    <tr>\n",
       "      <th>1</th>\n",
       "      <td>Tamil</td>\n",
       "    </tr>\n",
       "    <tr>\n",
       "      <th>2</th>\n",
       "      <td>Del</td>\n",
       "    </tr>\n",
       "    <tr>\n",
       "      <th>3</th>\n",
       "      <td>Karn</td>\n",
       "    </tr>\n",
       "    <tr>\n",
       "      <th>4</th>\n",
       "      <td>Guja</td>\n",
       "    </tr>\n",
       "    <tr>\n",
       "      <th>5</th>\n",
       "      <td>Utta</td>\n",
       "    </tr>\n",
       "  </tbody>\n",
       "</table>\n",
       "</div>"
      ],
      "text/plain": [
       "        x\n",
       "0  Mahara\n",
       "1   Tamil\n",
       "2     Del\n",
       "3    Karn\n",
       "4    Guja\n",
       "5    Utta"
      ]
     },
     "execution_count": 36,
     "metadata": {},
     "output_type": "execute_result"
    }
   ],
   "source": [
    "states_df"
   ]
  },
  {
   "cell_type": "code",
   "execution_count": 37,
   "id": "fc3c0085",
   "metadata": {},
   "outputs": [],
   "source": [
    "df1 = pd.read_csv('https://raw.githubusercontent.com/datasets/breast-cancer/master/data/breast-cancer.csv')"
   ]
  },
  {
   "cell_type": "code",
   "execution_count": 38,
   "id": "5d6a63f8",
   "metadata": {},
   "outputs": [
    {
     "data": {
      "text/html": [
       "<div>\n",
       "<style scoped>\n",
       "    .dataframe tbody tr th:only-of-type {\n",
       "        vertical-align: middle;\n",
       "    }\n",
       "\n",
       "    .dataframe tbody tr th {\n",
       "        vertical-align: top;\n",
       "    }\n",
       "\n",
       "    .dataframe thead th {\n",
       "        text-align: right;\n",
       "    }\n",
       "</style>\n",
       "<table border=\"1\" class=\"dataframe\">\n",
       "  <thead>\n",
       "    <tr style=\"text-align: right;\">\n",
       "      <th></th>\n",
       "      <th>age</th>\n",
       "      <th>mefalsepause</th>\n",
       "      <th>tumor-size</th>\n",
       "      <th>inv-falsedes</th>\n",
       "      <th>falsede-caps</th>\n",
       "      <th>deg-malig</th>\n",
       "      <th>breast</th>\n",
       "      <th>breast-quad</th>\n",
       "      <th>irradiat</th>\n",
       "      <th>class</th>\n",
       "    </tr>\n",
       "  </thead>\n",
       "  <tbody>\n",
       "    <tr>\n",
       "      <th>0</th>\n",
       "      <td>40-49</td>\n",
       "      <td>premefalse</td>\n",
       "      <td>15-19</td>\n",
       "      <td>0-2</td>\n",
       "      <td>True</td>\n",
       "      <td>3</td>\n",
       "      <td>right</td>\n",
       "      <td>left_up</td>\n",
       "      <td>False</td>\n",
       "      <td>recurrence-events</td>\n",
       "    </tr>\n",
       "    <tr>\n",
       "      <th>1</th>\n",
       "      <td>50-59</td>\n",
       "      <td>ge40</td>\n",
       "      <td>15-19</td>\n",
       "      <td>0-2</td>\n",
       "      <td>False</td>\n",
       "      <td>1</td>\n",
       "      <td>right</td>\n",
       "      <td>central</td>\n",
       "      <td>False</td>\n",
       "      <td>false-recurrence-events</td>\n",
       "    </tr>\n",
       "    <tr>\n",
       "      <th>2</th>\n",
       "      <td>50-59</td>\n",
       "      <td>ge40</td>\n",
       "      <td>35-39</td>\n",
       "      <td>0-2</td>\n",
       "      <td>False</td>\n",
       "      <td>2</td>\n",
       "      <td>left</td>\n",
       "      <td>left_low</td>\n",
       "      <td>False</td>\n",
       "      <td>recurrence-events</td>\n",
       "    </tr>\n",
       "    <tr>\n",
       "      <th>3</th>\n",
       "      <td>40-49</td>\n",
       "      <td>premefalse</td>\n",
       "      <td>35-39</td>\n",
       "      <td>0-2</td>\n",
       "      <td>True</td>\n",
       "      <td>3</td>\n",
       "      <td>right</td>\n",
       "      <td>left_low</td>\n",
       "      <td>True</td>\n",
       "      <td>false-recurrence-events</td>\n",
       "    </tr>\n",
       "    <tr>\n",
       "      <th>4</th>\n",
       "      <td>40-49</td>\n",
       "      <td>premefalse</td>\n",
       "      <td>30-34</td>\n",
       "      <td>3-5</td>\n",
       "      <td>True</td>\n",
       "      <td>2</td>\n",
       "      <td>left</td>\n",
       "      <td>right_up</td>\n",
       "      <td>False</td>\n",
       "      <td>recurrence-events</td>\n",
       "    </tr>\n",
       "    <tr>\n",
       "      <th>...</th>\n",
       "      <td>...</td>\n",
       "      <td>...</td>\n",
       "      <td>...</td>\n",
       "      <td>...</td>\n",
       "      <td>...</td>\n",
       "      <td>...</td>\n",
       "      <td>...</td>\n",
       "      <td>...</td>\n",
       "      <td>...</td>\n",
       "      <td>...</td>\n",
       "    </tr>\n",
       "    <tr>\n",
       "      <th>267</th>\n",
       "      <td>50-59</td>\n",
       "      <td>ge40</td>\n",
       "      <td>30-34</td>\n",
       "      <td>6-8</td>\n",
       "      <td>True</td>\n",
       "      <td>2</td>\n",
       "      <td>left</td>\n",
       "      <td>left_low</td>\n",
       "      <td>False</td>\n",
       "      <td>false-recurrence-events</td>\n",
       "    </tr>\n",
       "    <tr>\n",
       "      <th>268</th>\n",
       "      <td>50-59</td>\n",
       "      <td>premefalse</td>\n",
       "      <td>25-29</td>\n",
       "      <td>3-5</td>\n",
       "      <td>True</td>\n",
       "      <td>2</td>\n",
       "      <td>left</td>\n",
       "      <td>left_low</td>\n",
       "      <td>True</td>\n",
       "      <td>false-recurrence-events</td>\n",
       "    </tr>\n",
       "    <tr>\n",
       "      <th>269</th>\n",
       "      <td>30-39</td>\n",
       "      <td>premefalse</td>\n",
       "      <td>30-34</td>\n",
       "      <td>6-8</td>\n",
       "      <td>True</td>\n",
       "      <td>2</td>\n",
       "      <td>right</td>\n",
       "      <td>right_up</td>\n",
       "      <td>False</td>\n",
       "      <td>false-recurrence-events</td>\n",
       "    </tr>\n",
       "    <tr>\n",
       "      <th>270</th>\n",
       "      <td>50-59</td>\n",
       "      <td>premefalse</td>\n",
       "      <td>15-19</td>\n",
       "      <td>0-2</td>\n",
       "      <td>False</td>\n",
       "      <td>2</td>\n",
       "      <td>right</td>\n",
       "      <td>left_low</td>\n",
       "      <td>False</td>\n",
       "      <td>false-recurrence-events</td>\n",
       "    </tr>\n",
       "    <tr>\n",
       "      <th>271</th>\n",
       "      <td>50-59</td>\n",
       "      <td>ge40</td>\n",
       "      <td>40-44</td>\n",
       "      <td>0-2</td>\n",
       "      <td>False</td>\n",
       "      <td>3</td>\n",
       "      <td>left</td>\n",
       "      <td>right_up</td>\n",
       "      <td>False</td>\n",
       "      <td>false-recurrence-events</td>\n",
       "    </tr>\n",
       "  </tbody>\n",
       "</table>\n",
       "<p>272 rows × 10 columns</p>\n",
       "</div>"
      ],
      "text/plain": [
       "       age mefalsepause tumor-size inv-falsedes falsede-caps  deg-malig  \\\n",
       "0    40-49   premefalse      15-19          0-2         True          3   \n",
       "1    50-59         ge40      15-19          0-2        False          1   \n",
       "2    50-59         ge40      35-39          0-2        False          2   \n",
       "3    40-49   premefalse      35-39          0-2         True          3   \n",
       "4    40-49   premefalse      30-34          3-5         True          2   \n",
       "..     ...          ...        ...          ...          ...        ...   \n",
       "267  50-59         ge40      30-34          6-8         True          2   \n",
       "268  50-59   premefalse      25-29          3-5         True          2   \n",
       "269  30-39   premefalse      30-34          6-8         True          2   \n",
       "270  50-59   premefalse      15-19          0-2        False          2   \n",
       "271  50-59         ge40      40-44          0-2        False          3   \n",
       "\n",
       "    breast breast-quad  irradiat                    class  \n",
       "0    right     left_up     False        recurrence-events  \n",
       "1    right     central     False  false-recurrence-events  \n",
       "2     left    left_low     False        recurrence-events  \n",
       "3    right    left_low      True  false-recurrence-events  \n",
       "4     left    right_up     False        recurrence-events  \n",
       "..     ...         ...       ...                      ...  \n",
       "267   left    left_low     False  false-recurrence-events  \n",
       "268   left    left_low      True  false-recurrence-events  \n",
       "269  right    right_up     False  false-recurrence-events  \n",
       "270  right    left_low     False  false-recurrence-events  \n",
       "271   left    right_up     False  false-recurrence-events  \n",
       "\n",
       "[272 rows x 10 columns]"
      ]
     },
     "execution_count": 38,
     "metadata": {},
     "output_type": "execute_result"
    }
   ],
   "source": [
    "df1"
   ]
  },
  {
   "cell_type": "code",
   "execution_count": 40,
   "id": "1d9e767b",
   "metadata": {},
   "outputs": [
    {
     "data": {
      "text/plain": [
       "Index(['age', 'mefalsepause', 'tumor-size', 'inv-falsedes', 'falsede-caps',\n",
       "       'deg-malig', 'breast', 'breast-quad', 'irradiat', 'class'],\n",
       "      dtype='object')"
      ]
     },
     "execution_count": 40,
     "metadata": {},
     "output_type": "execute_result"
    }
   ],
   "source": [
    "df1.columns"
   ]
  },
  {
   "cell_type": "code",
   "execution_count": 42,
   "id": "fb758774",
   "metadata": {},
   "outputs": [
    {
     "data": {
      "text/plain": [
       "array(['premefalse', 'ge40', 'lt40'], dtype=object)"
      ]
     },
     "execution_count": 42,
     "metadata": {},
     "output_type": "execute_result"
    }
   ],
   "source": [
    "df1['mefalsepause'].unique()"
   ]
  },
  {
   "cell_type": "code",
   "execution_count": 47,
   "id": "377a0d30",
   "metadata": {},
   "outputs": [],
   "source": [
    "df1['mefalsepause']=labelencoder.fit_transform(df1['mefalsepause'])"
   ]
  },
  {
   "cell_type": "code",
   "execution_count": 48,
   "id": "a4b48122",
   "metadata": {},
   "outputs": [
    {
     "data": {
      "text/plain": [
       "array([2, 0, 1])"
      ]
     },
     "execution_count": 48,
     "metadata": {},
     "output_type": "execute_result"
    }
   ],
   "source": [
    "df1['mefalsepause'].unique()"
   ]
  },
  {
   "cell_type": "code",
   "execution_count": 49,
   "id": "0e49ecab",
   "metadata": {},
   "outputs": [],
   "source": [
    "from sklearn.linear_model import LinearRegression"
   ]
  },
  {
   "cell_type": "code",
   "execution_count": 50,
   "id": "7494faf9",
   "metadata": {},
   "outputs": [],
   "source": [
    "lr = LinearRegression()"
   ]
  },
  {
   "cell_type": "code",
   "execution_count": 51,
   "id": "c674c3eb",
   "metadata": {},
   "outputs": [],
   "source": [
    "X= [1,2,3,4,5,6]\n",
    "y = [1,2,3,4,5,6]"
   ]
  },
  {
   "cell_type": "code",
   "execution_count": 58,
   "id": "17aa3245",
   "metadata": {},
   "outputs": [
    {
     "data": {
      "text/plain": [
       "array([1, 2, 3, 4, 5, 6])"
      ]
     },
     "execution_count": 58,
     "metadata": {},
     "output_type": "execute_result"
    }
   ],
   "source": [
    "X\n",
    "#lr.fit(X,y)"
   ]
  },
  {
   "cell_type": "code",
   "execution_count": 53,
   "id": "eeca21df",
   "metadata": {},
   "outputs": [
    {
     "ename": "SyntaxError",
     "evalue": "invalid syntax (3004889086.py, line 1)",
     "output_type": "error",
     "traceback": [
      "\u001b[0;36m  Input \u001b[0;32mIn [53]\u001b[0;36m\u001b[0m\n\u001b[0;31m    data =\u001b[0m\n\u001b[0m           ^\u001b[0m\n\u001b[0;31mSyntaxError\u001b[0m\u001b[0;31m:\u001b[0m invalid syntax\n"
     ]
    }
   ],
   "source": [
    "data = [[1,1],[2,2],[3,3],[31],[1,1]]\n"
   ]
  },
  {
   "cell_type": "code",
   "execution_count": 2,
   "id": "6bd3f1c9",
   "metadata": {},
   "outputs": [],
   "source": [
    "import pandas as pd\n",
    "import numpy as np \n",
    "from sklearn.preprocessing import LabelEncoder \n",
    "from sklearn.preprocessing import OrdinalEncoder \n",
    "import warnings\n",
    "warnings.filterwarnings(\"ignore\")"
   ]
  },
  {
   "cell_type": "code",
   "execution_count": 3,
   "id": "b7769c31",
   "metadata": {},
   "outputs": [],
   "source": [
    "\n",
    "\n",
    "X_train = [['40-49', 'premeno', '10-14', '0-2', 'no', '1', 'right', 'right_low', 'no'], ['50-59',\n",
    "'ge40', '10-14', '0-2', 'no', '1', 'right', 'left_up', 'no'], ['40-49', 'ge40', '20-24', '0-2',\n",
    "'no', '3', 'left', 'left_low', 'no'], ['60-69', 'ge40', '30-34', '3-5', 'yes', '2', 'left',\n",
    "'central', 'yes'], ['50-59', 'ge40', '40-44', '0-2', 'no', '3', 'left', 'right_up', 'no'],\n",
    "['50-59', 'ge40', '35-39', '0-2', 'no', '3', 'left', 'left_low', 'no'], ['60-69', 'ge40',\n",
    "'40-44', '3-5', 'yes', '3', 'right', 'left_low', 'no'], ['50-59', 'ge40', '30-34', '6-8', 'yes',\n",
    "'3', 'left', 'right_low', 'no'], ['60-69', 'ge40', '10-14', '0-2', 'no', '1', 'left', 'left_up',\n",
    "'no'], ['40-49', 'premeno', '30-34', '0-2', 'no', '1', 'left', 'left_low', 'yes'], ['50-59',\n",
    "'premeno', '30-34', '0-2', 'no', '3', 'left', 'left_low', 'no'], ['40-49', 'premeno', '15-19',\n",
    "'0-2', 'no', '2', 'left', 'left_low', 'no'], ['30-39', 'premeno', '20-24', '3-5', 'yes', '2',\n",
    "'left', 'left_low', 'no'], ['40-49', 'premeno', '20-24', '0-2', 'no', '1', 'right', 'right_up',\n",
    "'no'], ['40-49', 'premeno', '20-24', '0-2', 'no', '2', 'left', 'left_low', 'no'], ['50-59',\n",
    "'ge40', '20-24', '0-2', 'no', '3', 'left', 'left_up', 'no'], ['40-49', 'premeno', '25-29',\n",
    "'0-2', 'no', '2', 'left', 'left_low', 'yes'], ['40-49', 'premeno', '35-39', '0-2', 'no', '1',\n",
    "'left', 'left_low', 'no'], ['40-49', 'premeno', '50-54', '0-2', 'no', '2', 'right', 'left_low',\n",
    "'yes'], ['30-39', 'premeno', '15-19', '0-2', 'no', '1', 'left', 'left_low', 'no'], ['60-69',\n",
    "'ge40', '10-14', '0-2', 'no', '1', 'left', 'left_low', 'no'], ['40-49', 'premeno', '30-34',\n",
    "'0-2', 'no', '3', 'right', 'right_up', 'no'], ['30-39', 'lt40', '15-19', '0-2', 'no', '3',\n",
    "'right', 'left_up', 'no'], ['50-59', 'ge40', '40-44', '6-8', 'yes', '3', 'left', 'left_low',\n",
    "'yes'], ['60-69', 'ge40', '30-34', '6-8', 'yes', '2', 'right', 'right_up', 'no'], ['50-59',\n",
    "'premeno', '35-39', '15-17', 'yes', '3', 'right', 'right_up', 'no'], ['40-49', 'premeno', '50-54',\n",
    "'0-2', 'no', '2', 'left', 'left_low', 'no'], ['40-49', 'premeno', '35-39', '0-2', 'no', '1',\n",
    "'right', 'left_up', 'no'], ['50-59', 'ge40', '20-24', '0-2', 'no', '1', 'right', 'left_low',\n",
    "'no'], ['40-49', 'premeno', '45-49', '0-2', 'no', '2', 'left', 'left_low', 'yes'], ['40-49',\n",
    "'premeno', '0-4', '0-2', 'no', '2', 'right', 'right_low', 'no'], ['40-49', 'premeno', '25-29',\n",
    "'0-2', 'no', '1', 'left', 'right_low', 'no'], ['40-49', 'ge40', '20-24', '3-5', 'no', '3',\n",
    "'right', 'left_low', 'yes'], ['60-69', 'ge40', '25-29', '3-5', 'nan', '1', 'right', 'left_low',\n",
    "'yes'], ['30-39', 'premeno', '25-29', '0-2', 'no', '2', 'left', 'left_low', 'no'], ['50-59',\n",
    "'ge40', '25-29', '15-17', 'yes', '3', 'right', 'left_up', 'no'], ['40-49', 'premeno', '10-14',\n",
    "'0-2', 'no', '2', 'right', 'left_low', 'no'], ['50-59', 'ge40', '25-29', '0-2', 'no', '1',\n",
    "'left', 'right_low', 'no'], ['30-39', 'premeno', '5-9', '0-2', 'no', '2', 'left', 'right_low',\n",
    "'no'], ['50-59', 'premeno', '50-54', '0-2', 'yes', '2', 'right', 'left_up', 'yes'], ['30-39',\n",
    "'premeno', '25-29', '0-2', 'no', '1', 'left', 'central', 'no'], ['40-49', 'premeno', '20-24',\n",
    "'0-2', 'no', '2', 'right', 'right_up', 'no'], ['40-49', 'premeno', '10-14', '0-2', 'no', '2',\n",
    "'left', 'left_low', 'yes'], ['50-59', 'ge40', '20-24', '0-2', 'no', '3', 'right', 'left_up',\n",
    "'no'], ['50-59', 'premeno', '10-14', '0-2', 'no', '2', 'right', 'left_up', 'no'], ['50-59',\n",
    "'premeno', '25-29', '3-5', 'yes', '2', 'left', 'left_low', 'yes'], ['30-39', 'premeno', '15-19',\n",
    "'0-2', 'no', '1', 'left', 'left_low', 'no'], ['40-49', 'premeno', '30-34', '0-2', 'no', '3',\n",
    "'right', 'right_up', 'no'], ['40-49', 'premeno', '30-34', '15-17', 'yes', '3', 'left', 'left_low',\n",
    "'no'], ['40-49', 'premeno', '15-19', '15-17', 'yes', '3', 'left', 'left_low', 'no'], ['40-49',\n",
    "'premeno', '15-19', '0-2', 'yes', '3', 'right', 'left_up', 'no'], ['60-69', 'ge40', '30-34',\n",
    "'0-2', 'no', '3', 'left', 'left_low', 'no'], ['40-49', 'premeno', '20-24', '0-2', 'no', '1',\n",
    "'right', 'left_low', 'no'], ['30-39', 'premeno', '25-29', '0-2', 'no', '2', 'right', 'left_low',\n",
    "'no'], ['60-69', 'ge40', '15-19', '0-2', 'no', '2', 'left', 'left_low', 'no'], ['30-39',\n",
    "'premeno', '30-34', '9-11', 'no', '2', 'right', 'left_up', 'yes'], ['60-69', 'ge40', '20-24',\n",
    "'3-5', 'no', '2', 'left', 'left_low', 'yes'], ['60-69', 'ge40', '30-34', '3-5', 'yes', '3',\n",
    "'left', 'left_low', 'no'], ['50-59', 'premeno', '10-14', '3-5', 'no', '1', 'right', 'left_up',\n",
    "'no'], ['40-49', 'ge40', '30-34', '3-5', 'no', '3', 'left', 'left_low', 'no'], ['50-59',\n",
    "'premeno', '35-39', '0-2', 'no', '2', 'right', 'left_up', 'no'], ['40-49', 'premeno', '25-29',\n",
    "'0-2', 'no', '3', 'left', 'right_up', 'no'], ['60-69', 'ge40', '25-29', '0-2', 'no', '2',\n",
    "'left', 'left_low', 'no'], ['50-59', 'ge40', '35-39', '0-2', 'no', '2', 'left', 'left_up',\n",
    "'no'], ['40-49', 'premeno', '35-39', '0-2', 'yes', '3', 'right', 'left_up', 'yes'], ['60-69',\n",
    "'lt40', '30-34', '0-2', 'no', '1', 'left', 'left_low', 'no'], ['40-49', 'premeno', '20-24',\n",
    "'6-8', 'no', '2', 'right', 'left_low', 'yes'], ['30-39', 'premeno', '30-34', '3-5', 'no', '3',\n",
    "'right', 'left_up', 'yes'], ['40-49', 'premeno', '25-29', '0-2', 'no', '3', 'left', 'left_up',\n",
    "'no'], ['30-39', 'premeno', '35-39', '0-2', 'no', '3', 'left', 'left_low', 'no'], ['60-69',\n",
    "'ge40', '40-44', '3-5', 'no', '2', 'right', 'left_up', 'yes'], ['50-59', 'premeno', '15-19',\n",
    "'0-2', 'no', '2', 'left', 'left_low', 'no'], ['30-39', 'premeno', '10-14', '0-2', 'no', '1',\n",
    "'right', 'left_low', 'no'], ['70-79', 'ge40', '40-44', '0-2', 'no', '1', 'right', 'right_up',\n",
    "'no'], ['50-59', 'ge40', '10-14', '0-2', 'no', '1', 'left', 'left_up', 'no'], ['40-49',\n",
    "'premeno', '5-9', '0-2', 'no', '1', 'left', 'left_low', 'yes'], ['40-49', 'premeno', '30-34',\n",
    "'6-8', 'yes', '3', 'right', 'left_up', 'no'], ['50-59', 'premeno', '30-34', '0-2', 'no', '3',\n",
    "'right', 'left_up', 'yes'], ['50-59', 'premeno', '30-34', '0-2', 'no', '1', 'left', 'central',\n",
    "'no'], ['50-59', 'premeno', '20-24', '0-2', 'no', '1', 'left', 'left_low', 'no'], ['40-49',\n",
    "'premeno', '30-34', '0-2', 'no', '2', 'right', 'right_up', 'yes'], ['60-69', 'ge40', '10-14',\n",
    "'0-2', 'no', '2', 'left', 'left_low', 'no'], ['50-59', 'ge40', '20-24', '0-2', 'yes', '2',\n",
    "'right', 'left_up', 'no'], ['30-39', 'premeno', '0-4', '0-2', 'no', '2', 'right', 'central',\n",
    "'no'], ['60-69', 'ge40', '25-29', '0-2', 'no', '3', 'right', 'left_up', 'no'], ['60-69', 'ge40',\n",
    "'5-9', '0-2', 'no', '1', 'left', 'central', 'no'], ['70-79', 'ge40', '20-24', '0-2', 'no',\n",
    "'3', 'left', 'left_up', 'no'], ['50-59', 'premeno', '15-19', '0-2', 'no', '2', 'right',\n",
    "'right_low', 'no'], ['40-49', 'premeno', '35-39', '9-11', 'yes', '2', 'right', 'left_up', 'yes'],\n",
    "['50-59', 'ge40', '25-29', '0-2', 'no', '2', 'left', 'left_low', 'no'], ['50-59', 'premeno',\n",
    "'10-14', '0-2', 'no', '3', 'left', 'left_low', 'no'], ['60-69', 'ge40', '15-19', '0-2', 'no',\n",
    "'3', 'right', 'left_up', 'yes'], ['40-49', 'premeno', '25-29', '0-2', 'no', '2', 'left',\n",
    "'left_up', 'yes'], ['40-49', 'premeno', '25-29', '0-2', 'nan', '2', 'left', 'right_low', 'yes'],\n",
    "['50-59', 'ge40', '40-44', '0-2', 'no', '2', 'left', 'left_low', 'no'], ['40-49', 'premeno',\n",
    "'30-34', '6-8', 'no', '2', 'left', 'left_up', 'no'], ['40-49', 'premeno', '20-24', '3-5', 'no',\n",
    "'2', 'right', 'left_up', 'no'], ['40-49', 'premeno', '40-44', '3-5', 'yes', '3', 'right',\n",
    "'left_up', 'yes'], ['60-69', 'ge40', '30-34', '0-2', 'no', '3', 'right', 'left_up', 'yes'],\n",
    "['30-39', 'premeno', '40-44', '0-2', 'no', '2', 'right', 'right_up', 'no'], ['40-49', 'premeno',\n",
    "'30-34', '0-2', 'no', '2', 'left', 'right_low', 'no'], ['50-59', 'premeno', '10-14', '0-2',\n",
    "'no', '1', 'left', 'left_low', 'no'], ['50-59', 'ge40', '30-34', '0-2', 'no', '3', 'left',\n",
    "'nan', 'no'], ['40-49', 'premeno', '30-34', '0-2', 'no', '1', 'right', 'left_up', 'no'], ['40-49',\n",
    "'premeno', '20-24', '0-2', 'no', '2', 'left', 'left_up', 'no'], ['50-59', 'ge40', '40-44',\n",
    "'6-8', 'yes', '3', 'left', 'left_low', 'yes'], ['50-59', 'ge40', '20-24', '0-2', 'no', '2',\n",
    "'right', 'left_up', 'no'], ['60-69', 'ge40', '20-24', '24-26', 'yes', '3', 'left', 'left_low',\n",
    "'yes'], ['40-49', 'premeno', '30-34', '0-2', 'no', '3', 'left', 'left_up', 'no'], ['40-49',\n",
    "'premeno', '40-44', '0-2', 'no', '2', 'right', 'left_low', 'no'], ['50-59', 'ge40', '40-44',\n",
    "'3-5', 'yes', '2', 'left', 'left_low', 'no'], ['40-49', 'premeno', '30-34', '3-5', 'yes', '2',\n",
    "'right', 'left_low', 'no'], ['30-39', 'premeno', '20-24', '0-2', 'no', '2', 'left', 'right_low',\n",
    "'no'], ['40-49', 'premeno', '25-29', '0-2', 'no', '2', 'right', 'left_low', 'no'], ['30-39',\n",
    "'premeno', '10-14', '0-2', 'no', '2', 'left', 'right_low', 'no'], ['60-69', 'ge40', '30-34',\n",
    "'0-2', 'yes', '2', 'right', 'right_up', 'yes'], ['40-49', 'premeno', '40-44', '0-2', 'no', '1',\n",
    "'left', 'left_low', 'no'], ['50-59', 'ge40', '25-29', '0-2', 'no', '2', 'right', 'left_up',\n",
    "'no'], ['30-39', 'premeno', '40-44', '0-2', 'no', '1', 'left', 'left_up', 'no'], ['50-59',\n",
    "'premeno', '25-29', '0-2', 'no', '2', 'left', 'left_low', 'no'], ['50-59', 'premeno', '30-34',\n",
    "'0-2', 'no', '3', 'left', 'right_up', 'no'], ['50-59', 'ge40', '5-9', '0-2', 'no', '2',\n",
    "'right', 'right_up', 'no'], ['60-69', 'ge40', '20-24', '0-2', 'no', '2', 'left', 'left_up',\n",
    "'no'], ['40-49', 'premeno', '10-14', '0-2', 'no', '2', 'right', 'left_up', 'no'], ['60-69',\n",
    "'ge40', '25-29', '0-2', 'no', '3', 'left', 'right_low', 'yes'], ['50-59', 'lt40', '20-24',\n",
    "'0-2', 'nan', '1', 'left', 'left_low', 'no'], ['40-49', 'premeno', '10-14', '0-2', 'no', '2',\n",
    "'left', 'left_low', 'no'], ['50-59', 'ge40', '30-34', '6-8', 'yes', '2', 'left', 'left_low',\n",
    "'no'], ['50-59', 'ge40', '10-14', '0-2', 'no', '1', 'left', 'left_low', 'no'], ['50-59',\n",
    "'premeno', '15-19', '0-2', 'no', '2', 'right', 'left_low', 'no'], ['50-59', 'ge40', '0-4',\n",
    "'0-2', 'no', '2', 'left', 'central', 'no'], ['70-79', 'ge40', '0-4', '0-2', 'no', '1', 'left',\n",
    "'right_low', 'no'], ['60-69', 'ge40', '15-19', '0-2', 'no', '2', 'left', 'left_low', 'no'],\n",
    "['50-59', 'ge40', '35-39', '0-2', 'no', '2', 'left', 'left_low', 'no'], ['40-49', 'premeno',\n",
    "'30-34', '0-2', 'no', '2', 'right', 'right_low', 'no'], ['50-59', 'ge40', '40-44', '0-2', 'no',\n",
    "'3', 'left', 'left_up', 'no'], ['40-49', 'premeno', '15-19', '0-2', 'no', '2', 'left',\n",
    "'left_up', 'no'], ['50-59', 'ge40', '30-34', '9-11', 'yes', '3', 'left', 'right_low', 'yes'],\n",
    "['40-49', 'premeno', '25-29', '0-2', 'no', '2', 'right', 'central', 'no'], ['30-39', 'premeno',\n",
    "'40-44', '3-5', 'no', '3', 'right', 'right_up', 'yes'], ['50-59', 'ge40', '15-19', '0-2', 'no',\n",
    "'1', 'right', 'central', 'no'], ['50-59', 'ge40', '30-34', '3-5', 'no', '3', 'left', 'left_low',\n",
    "'no'], ['50-59', 'ge40', '15-19', '0-2', 'no', '2', 'right', 'right_up', 'no'], ['50-59',\n",
    "'ge40', '25-29', '3-5', 'yes', '3', 'right', 'left_up', 'no'], ['60-69', 'ge40', '10-14', '0-2',\n",
    "'no', '2', 'right', 'left_up', 'yes'], ['50-59', 'premeno', '25-29', '0-2', 'no', '2', 'left',\n",
    "'right_up', 'no'], ['30-39', 'premeno', '25-29', '6-8', 'yes', '3', 'left', 'right_low', 'yes'],\n",
    "['50-59', 'lt40', '20-24', '0-2', 'nan', '1', 'left', 'left_up', 'no'], ['60-69', 'ge40', '20-24',\n",
    "'0-2', 'no', '3', 'right', 'left_low', 'no'], ['60-69', 'ge40', '20-24', '0-2', 'no', '2',\n",
    "'right', 'left_up', 'no'], ['30-39', 'premeno', '25-29', '6-8', 'yes', '2', 'right', 'left_up',\n",
    "'yes'], ['50-59', 'premeno', '20-24', '3-5', 'yes', '2', 'left', 'left_low', 'no'], ['40-49',\n",
    "'premeno', '20-24', '3-5', 'no', '2', 'right', 'left_low', 'no'], ['50-59', 'premeno', '25-29',\n",
    "'0-2', 'no', '2', 'left', 'left_low', 'no'], ['60-69', 'ge40', '50-54', '0-2', 'no', '2',\n",
    "'left', 'left_low', 'no'], ['50-59', 'ge40', '25-29', '0-2', 'no', '3', 'left', 'right_up',\n",
    "'no'], ['50-59', 'ge40', '0-4', '0-2', 'no', '1', 'right', 'central', 'no'], ['60-69', 'ge40',\n",
    "'25-29', '3-5', 'no', '2', 'right', 'right_up', 'no'], ['60-69', 'ge40', '15-19', '0-2', 'no',\n",
    "'2', 'left', 'left_up', 'yes'], ['50-59', 'ge40', '10-14', '0-2', 'no', '2', 'left', 'left_low',\n",
    "'no'], ['50-59', 'ge40', '30-34', '6-8', 'yes', '2', 'left', 'right_low', 'yes'], ['60-69',\n",
    "'lt40', '10-14', '0-2', 'no', '1', 'left', 'right_up', 'no'], ['40-49', 'premeno', '20-24',\n",
    "'3-5', 'yes', '2', 'left', 'left_low', 'yes'], ['50-59', 'ge40', '30-34', '0-2', 'no', '1',\n",
    "'right', 'left_low', 'no'], ['40-49', 'premeno', '10-14', '0-2', 'no', '1', 'right', 'left_up',\n",
    "'no'], ['60-69', 'ge40', '30-34', '0-2', 'no', '2', 'left', 'left_up', 'no'], ['30-39',\n",
    "'premeno', '20-24', '3-5', 'no', '2', 'right', 'central', 'no'], ['40-49', 'ge40', '40-44',\n",
    "'15-17', 'yes', '2', 'right', 'left_up', 'yes'], ['50-59', 'ge40', '30-34', '9-11', 'nan', '3',\n",
    "'left', 'left_low', 'yes'], ['40-49', 'premeno', '20-24', '0-2', 'no', '1', 'left', 'right_low',\n",
    "'no'], ['30-39', 'premeno', '25-29', '3-5', 'yes', '3', 'left', 'left_low', 'yes'], ['40-49',\n",
    "'premeno', '30-34', '0-2', 'no', '1', 'left', 'left_low', 'no'], ['30-39', 'premeno', '15-19',\n",
    "'0-2', 'no', '1', 'right', 'left_low', 'no'], ['60-69', 'ge40', '20-24', '0-2', 'no', '1',\n",
    "'left', 'left_low', 'no'], ['60-69', 'ge40', '25-29', '0-2', 'no', '3', 'right', 'left_low',\n",
    "'no'], ['60-69', 'ge40', '30-34', '0-2', 'no', '2', 'left', 'left_low', 'yes'], ['50-59',\n",
    "'ge40', '20-24', '3-5', 'yes', '2', 'right', 'left_up', 'no'], ['50-59', 'premeno', '25-29',\n",
    "'0-2', 'no', '1', 'left', 'left_low', 'no'], ['40-49', 'ge40', '20-24', '0-2', 'no', '2',\n",
    "'right', 'left_up', 'no'], ['30-39', 'premeno', '20-24', '0-2', 'no', '3', 'left', 'central',\n",
    "'no'], ['40-49', 'ge40', '25-29', '12-14', 'yes', '3', 'left', 'right_low', 'yes'], ['40-49',\n",
    "'premeno', '35-39', '9-11', 'yes', '2', 'right', 'right_up', 'yes'], ['50-59', 'ge40', '20-24',\n",
    "'0-2', 'no', '2', 'left', 'left_up', 'no'], ['40-49', 'premeno', '20-24', '0-2', 'no', '2',\n",
    "'left', 'right_low', 'no'], ['50-59', 'lt40', '15-19', '0-2', 'no', '2', 'left', 'left_low',\n",
    "'no'], ['40-49', 'premeno', '0-4', '0-2', 'no', '3', 'left', 'central', 'no'], ['50-59', 'ge40',\n",
    "'10-14', '0-2', 'no', '2', 'right', 'left_low', 'no'], ['50-59', 'premeno', '15-19', '0-2',\n",
    "'no', '1', 'left', 'left_low', 'no'], ['50-59', 'ge40', '20-24', '3-5', 'yes', '3', 'right',\n",
    "'right_up', 'no'], ['60-69', 'ge40', '30-34', '0-2', 'no', '1', 'left', 'left_up', 'no'],\n",
    "['30-39', 'premeno', '15-19', '6-8', 'yes', '3', 'left', 'left_low', 'yes'], ['30-39', 'premeno',\n",
    "'30-34', '0-2', 'no', '1', 'right', 'left_up', 'no'], ['40-49', 'premeno', '35-39', '0-2',\n",
    "'yes', '3', 'right', 'left_low', 'yes'], ['50-59', 'ge40', '35-39', '15-17', 'no', '3', 'left',\n",
    "'left_low', 'no'], ['50-59', 'ge40', '40-44', '0-2', 'no', '3', 'right', 'left_up', 'no'],\n",
    "['50-59', 'ge40', '30-34', '9-11', 'nan', '3', 'left', 'left_up', 'yes'], ['40-49', 'premeno',\n",
    "'15-19', '12-14', 'no', '3', 'right', 'right_low', 'yes'], ['20-29', 'premeno', '35-39', '0-2',\n",
    "'no', '2', 'right', 'right_up', 'no'], ['40-49', 'premeno', '35-39', '0-2', 'no', '2', 'right',\n",
    "'right_up', 'no'], ['60-69', 'ge40', '30-34', '0-2', 'no', '3', 'right', 'central', 'no'],\n",
    "['50-59', 'premeno', '25-29', '0-2', 'yes', '2', 'left', 'left_up', 'no'], ['60-69', 'ge40',\n",
    "'10-14', '0-2', 'no', '1', 'left', 'left_up', 'no'], ['40-49', 'premeno', '20-24', '0-2', 'no',\n",
    "'3', 'right', 'left_low', 'yes'], ['60-69', 'ge40', '25-29', '0-2', 'no', '3', 'left',\n",
    "'left_up', 'no'], ['40-49', 'premeno', '25-29', '0-2', 'no', '1', 'right', 'left_low', 'yes'],\n",
    "['50-59', 'ge40', '15-19', '0-2', 'no', '1', 'right', 'central', 'no'], ['50-59', 'ge40',\n",
    "'15-19', '0-2', 'no', '2', 'right', 'left_low', 'no'], ['40-49', 'premeno', '10-14', '0-2',\n",
    "'no', '2', 'left', 'left_up', 'no'], ['40-49', 'premeno', '25-29', '0-2', 'no', '2', 'left',\n",
    "'left_up', 'no'], ['40-49', 'premeno', '40-44', '0-2', 'no', '1', 'right', 'left_up', 'no'],\n",
    "['70-79', 'ge40', '10-14', '0-2', 'no', '2', 'left', 'central', 'no'], ['70-79', 'ge40',\n",
    "'40-44', '0-2', 'no', '1', 'right', 'left_up', 'no'], ['50-59', 'premeno', '50-54', '9-11',\n",
    "'yes', '2', 'right', 'left_up', 'no'], ['70-79', 'ge40', '15-19', '9-11', 'nan', '1', 'left',\n",
    "'left_low', 'yes'], ['30-39', 'premeno', '30-34', '0-2', 'no', '2', 'left', 'left_up', 'no'],\n",
    "['40-49', 'premeno', '30-34', '0-2', 'no', '1', 'left', 'right_up', 'no'], ['40-49', 'premeno',\n",
    "'25-29', '0-2', 'no', '3', 'right', 'left_up', 'yes'], ['40-49', 'premeno', '25-29', '0-2',\n",
    "'no', '2', 'right', 'left_low', 'no'], ['40-49', 'premeno', '30-34', '12-14', 'yes', '3',\n",
    "'left', 'left_up', 'yes'], ['60-69', 'ge40', '25-29', '3-5', 'nan', '1', 'right', 'left_up',\n",
    "'yes'], ['60-69', 'ge40', '15-19', '0-2', 'no', '2', 'right', 'left_low', 'no'], ['50-59',\n",
    "'ge40', '15-19', '0-2', 'yes', '2', 'left', 'central', 'yes'], ['40-49', 'premeno', '25-29',\n",
    "'0-2', 'no', '2', 'right', 'left_low', 'no'], ['40-49', 'premeno', '25-29', '0-2', 'no', '1',\n",
    "'right', 'right_low', 'no'], ['50-59', 'premeno', '25-29', '0-2', 'no', '3', 'right', 'left_low',\n",
    "'yes'], ['60-69', 'ge40', '10-14', '0-2', 'no', '1', 'right', 'left_low', 'no'], ['60-69',\n",
    "'ge40', '40-44','0-2','no','2','right', 'left_low','no'], ['60-69','ge40','45-49','6-8','yes',\n",
    "'3', 'left', 'central', 'no']] \n",
    "\n",
    "y_train = [['no-recurrence-events'], ['no-recurrence-events'], ['no-recurrence-events'], ['recurrence-events'],\n",
    "['no-recurrence-events'], ['no-recurrence-events'], ['recurrence-events'], ['recurrence-events'],\n",
    "['no-recurrence-events'], ['recurrence-events'], ['no-recurrence-events'], ['no-recurrence-events'],\n",
    "['recurrence-events'], ['no-recurrence-events'], ['recurrence-events'], ['no-recurrence-events'],\n",
    "['recurrence-events'], ['no-recurrence-events'], ['recurrence-events'], ['no-recurrence-events'],\n",
    "['no-recurrence-events'], ['recurrence-events'], ['no-recurrence-events'], ['recurrence-events'],\n",
    "['no-recurrence-events'], ['recurrence-events'], ['no-recurrence-events'], ['recurrence-events'],\n",
    "['no-recurrence-events'], ['no-recurrence-events'], ['no-recurrence-events'], ['no-recurrence-events'],\n",
    "['recurrence-events'], ['no-recurrence-events'], ['no-recurrence-events'], ['no-recurrence-events'],\n",
    "['no-recurrence-events'], ['no-recurrence-events'], ['no-recurrence-events'], ['no-recurrence-events'],\n",
    "['no-recurrence-events'], ['no-recurrence-events'], ['no-recurrence-events'], ['no-recurrence-events'],\n",
    "['no-recurrence-events'], ['no-recurrence-events'], ['no-recurrence-events'], ['no-recurrence-events'],\n",
    "['recurrence-events'], ['recurrence-events'], ['recurrence-events'], ['no-recurrence-events'],\n",
    "['no-recurrence-events'], ['no-recurrence-events'], ['no-recurrence-events'], ['recurrence-events'],\n",
    "['recurrence-events'], ['no-recurrence-events'], ['no-recurrence-events'], ['recurrence-events'],\n",
    "['no-recurrence-events'], ['recurrence-events'], ['no-recurrence-events'], ['no-recurrence-events'],\n",
    "['no-recurrence-events'], ['no-recurrence-events'], ['no-recurrence-events'], ['recurrence-events'],\n",
    "['recurrence-events'], ['recurrence-events'], ['no-recurrence-events'], ['recurrence-events'],\n",
    "['no-recurrence-events'], ['no-recurrence-events'], ['no-recurrence-events'], ['no-recurrence-events'],\n",
    "['recurrence-events'], ['recurrence-events'], ['no-recurrence-events'], ['no-recurrence-events'],\n",
    "['no-recurrence-events'], ['no-recurrence-events'], ['no-recurrence-events'], ['no-recurrence-events'],\n",
    "['no-recurrence-events'], ['no-recurrence-events'], ['no-recurrence-events'], ['no-recurrence-events'],\n",
    "['no-recurrence-events'], ['no-recurrence-events'], ['no-recurrence-events'], ['no-recurrence-events'],\n",
    "['no-recurrence-events'], ['no-recurrence-events'], ['no-recurrence-events'], ['no-recurrence-events'],\n",
    "['no-recurrence-events'], ['no-recurrence-events'], ['recurrence-events'], ['no-recurrence-events'],\n",
    "['no-recurrence-events'], ['no-recurrence-events'], ['recurrence-events'], ['no-recurrence-events'],\n",
    "['no-recurrence-events'], ['recurrence-events'], ['no-recurrence-events'], ['recurrence-events'],\n",
    "['no-recurrence-events'], ['no-recurrence-events'], ['no-recurrence-events'], ['no-recurrence-events'],\n",
    "['no-recurrence-events'], ['no-recurrence-events'], ['no-recurrence-events'], ['recurrence-events'],\n",
    "['recurrence-events'], ['no-recurrence-events'], ['recurrence-events'], ['no-recurrence-events'],\n",
    "['recurrence-events'], ['no-recurrence-events'], ['no-recurrence-events'], ['no-recurrence-events'],\n",
    "['recurrence-events'], ['recurrence-events'], ['no-recurrence-events'], ['no-recurrence-events'],\n",
    "['no-recurrence-events'], ['no-recurrence-events'], ['no-recurrence-events'], ['no-recurrence-events'],\n",
    "['no-recurrence-events'], ['recurrence-events'], ['no-recurrence-events'], ['no-recurrence-events'],\n",
    "['recurrence-events'], ['recurrence-events'], ['no-recurrence-events'], ['no-recurrence-events'],\n",
    "['no-recurrence-events'], ['recurrence-events'], ['no-recurrence-events'], ['no-recurrence-events'],\n",
    "['no-recurrence-events'], ['recurrence-events'], ['recurrence-events'], ['recurrence-events'],\n",
    "['recurrence-events'], ['no-recurrence-events'], ['no-recurrence-events'], ['no-recurrence-events'],\n",
    "['no-recurrence-events'], ['no-recurrence-events'], ['no-recurrence-events'], ['no-recurrence-events'],\n",
    "['no-recurrence-events'], ['recurrence-events'], ['no-recurrence-events'], ['no-recurrence-events'],\n",
    "['recurrence-events'], ['no-recurrence-events'], ['recurrence-events'], ['no-recurrence-events'],\n",
    "['no-recurrence-events'], ['no-recurrence-events'], ['no-recurrence-events'], ['no-recurrence-events'],\n",
    "['no-recurrence-events'], ['no-recurrence-events'], ['recurrence-events'], ['no-recurrence-events'],\n",
    "['recurrence-events'], ['no-recurrence-events'], ['no-recurrence-events'], ['no-recurrence-events'],\n",
    "['no-recurrence-events'], ['no-recurrence-events'], ['recurrence-events'], ['no-recurrence-events'],\n",
    "['recurrence-events'], ['no-recurrence-events'], ['recurrence-events'], ['no-recurrence-events'],\n",
    "['no-recurrence-events'], ['no-recurrence-events'], ['no-recurrence-events'], ['no-recurrence-events'],\n",
    "['recurrence-events'], ['no-recurrence-events'], ['recurrence-events'], ['recurrence-events'],\n",
    "['no-recurrence-events'], ['no-recurrence-events'], ['no-recurrence-events'], ['no-recurrence-events'],\n",
    "['no-recurrence-events'], ['no-recurrence-events'], ['no-recurrence-events'], ['recurrence-events'],\n",
    "['no-recurrence-events'], ['no-recurrence-events'], ['no-recurrence-events'], ['recurrence-events'],\n",
    "['no-recurrence-events'], ['no-recurrence-events'], ['no-recurrence-events'], ['no-recurrence-events'],\n",
    "['no-recurrence-events'], ['no-recurrence-events'], ['no-recurrence-events'], ['no-recurrence-events'],\n",
    "['recurrence-events'], ['recurrence-events'], ['recurrence-events'], ['no-recurrence-events'],\n",
    "['no-recurrence-events'], ['recurrence-events'], ['recurrence-events'], ['no-recurrence-events'],\n",
    "['no-recurrence-events'], ['no-recurrence-events'], ['recurrence-events'], ['no-recurrence-events'],\n",
    "['recurrence-events'], ['no-recurrence-events'], ['recurrence-events'], ['no-recurrence-events']]\n",
    "\n"
   ]
  },
  {
   "cell_type": "code",
   "execution_count": 7,
   "id": "f4a1cdfb",
   "metadata": {
    "scrolled": true
   },
   "outputs": [],
   "source": [
    "#INPUT [uncomment & modify if required]\n",
    "y_train=np.array(y_train).reshape((len(y_train),1))\n",
    "\n"
   ]
  },
  {
   "cell_type": "code",
   "execution_count": 8,
   "id": "cc6322c3",
   "metadata": {},
   "outputs": [],
   "source": [
    "X_train=np.array(X_train)"
   ]
  },
  {
   "cell_type": "code",
   "execution_count": 9,
   "id": "dd31ac1f",
   "metadata": {},
   "outputs": [
    {
     "data": {
      "text/plain": [
       "array(['no-recurrence-events'], dtype='<U20')"
      ]
     },
     "execution_count": 9,
     "metadata": {},
     "output_type": "execute_result"
    }
   ],
   "source": [
    "y_train[0]"
   ]
  },
  {
   "cell_type": "code",
   "execution_count": 11,
   "id": "d9cdd9ab",
   "metadata": {},
   "outputs": [
    {
     "data": {
      "text/plain": [
       "array(['40-49', 'premeno', '10-14', '0-2', 'no', '1', 'right',\n",
       "       'right_low', 'no'], dtype='<U9')"
      ]
     },
     "execution_count": 11,
     "metadata": {},
     "output_type": "execute_result"
    }
   ],
   "source": [
    "X_train[0]"
   ]
  },
  {
   "cell_type": "code",
   "execution_count": 114,
   "id": "9cc9eecc",
   "metadata": {},
   "outputs": [],
   "source": [
    "X_train= X_train.reshape(-1, 1)"
   ]
  },
  {
   "cell_type": "code",
   "execution_count": 115,
   "id": "a2f8f5e1",
   "metadata": {},
   "outputs": [],
   "source": [
    "y_train= y_train.reshape(-1, 1)"
   ]
  },
  {
   "cell_type": "code",
   "execution_count": 116,
   "id": "ae1a73d0",
   "metadata": {},
   "outputs": [
    {
     "data": {
      "text/plain": [
       "array(['no-recurrence-events'], dtype='<U20')"
      ]
     },
     "execution_count": 116,
     "metadata": {},
     "output_type": "execute_result"
    }
   ],
   "source": [
    "y_train[0]"
   ]
  },
  {
   "cell_type": "code",
   "execution_count": null,
   "id": "f6350570",
   "metadata": {},
   "outputs": [],
   "source": []
  },
  {
   "cell_type": "code",
   "execution_count": 13,
   "id": "3e533565",
   "metadata": {},
   "outputs": [
    {
     "ename": "TypeError",
     "evalue": "expected sequence object with len >= 0 or a single integer",
     "output_type": "error",
     "traceback": [
      "\u001b[0;31m---------------------------------------------------------------------------\u001b[0m",
      "\u001b[0;31mTypeError\u001b[0m                                 Traceback (most recent call last)",
      "Input \u001b[0;32mIn [13]\u001b[0m, in \u001b[0;36m<cell line: 1>\u001b[0;34m()\u001b[0m\n\u001b[0;32m----> 1\u001b[0m \u001b[43mX_train\u001b[49m\u001b[38;5;241;43m.\u001b[39;49m\u001b[43mreshape\u001b[49m\u001b[43m(\u001b[49m\u001b[38;5;28;43mstr\u001b[39;49m\u001b[43m)\u001b[49m\n",
      "\u001b[0;31mTypeError\u001b[0m: expected sequence object with len >= 0 or a single integer"
     ]
    }
   ],
   "source": [
    "X_train.reshape(str)\n",
    "#result="
   ]
  },
  {
   "cell_type": "code",
   "execution_count": 85,
   "id": "05b2029a",
   "metadata": {},
   "outputs": [],
   "source": [
    "from sklearn.preprocessing import LabelEncoder\n",
    "labelencoder = LabelEncoder()\n",
    "from sklearn.preprocessing import OrdinalEncoder\n",
    "ordinalencoder = OrdinalEncoder()"
   ]
  },
  {
   "cell_type": "code",
   "execution_count": null,
   "id": "41fcacc3",
   "metadata": {},
   "outputs": [],
   "source": []
  },
  {
   "cell_type": "code",
   "execution_count": 93,
   "id": "8d0df8fd",
   "metadata": {},
   "outputs": [
    {
     "ename": "TypeError",
     "evalue": "data type 'recurrence-events' not understood",
     "output_type": "error",
     "traceback": [
      "\u001b[0;31m---------------------------------------------------------------------------\u001b[0m",
      "\u001b[0;31mTypeError\u001b[0m                                 Traceback (most recent call last)",
      "Input \u001b[0;32mIn [93]\u001b[0m, in \u001b[0;36m<cell line: 1>\u001b[0;34m()\u001b[0m\n\u001b[0;32m----> 1\u001b[0m result_y \u001b[38;5;241m=\u001b[39m labelencoder\u001b[38;5;241m.\u001b[39mfit_transform(\u001b[43my_train\u001b[49m\u001b[38;5;241;43m.\u001b[39;49m\u001b[43mastype\u001b[49m\u001b[43m(\u001b[49m\u001b[38;5;124;43m'\u001b[39;49m\u001b[38;5;124;43mrecurrence-events\u001b[39;49m\u001b[38;5;124;43m'\u001b[39;49m\u001b[43m)\u001b[49m)\n",
      "\u001b[0;31mTypeError\u001b[0m: data type 'recurrence-events' not understood"
     ]
    }
   ],
   "source": [
    "result_y = labelencoder.fit_transform(y_train.astype('recurrence-events'))"
   ]
  },
  {
   "cell_type": "code",
   "execution_count": 94,
   "id": "20c4b6b4",
   "metadata": {},
   "outputs": [
    {
     "data": {
      "text/plain": [
       "array([0, 0, 0, 1, 0, 0, 1, 1, 0, 1, 0, 0, 1, 0, 1, 0, 1, 0, 1, 0, 0, 1,\n",
       "       0, 1, 0, 1, 0, 1, 0, 0, 0, 0, 1, 0, 0, 0, 0, 0, 0, 0, 0, 0, 0, 0,\n",
       "       0, 0, 0, 0, 1, 1, 1, 0, 0, 0, 0, 1, 1, 0, 0, 1, 0, 1, 0, 0, 0, 0,\n",
       "       0, 1, 1, 1, 0, 1, 0, 0, 0, 0, 1, 1, 0, 0, 0, 0, 0, 0, 0, 0, 0, 0,\n",
       "       0, 0, 0, 0, 0, 0, 0, 0, 0, 0, 1, 0, 0, 0, 1, 0, 0, 1, 0, 1, 0, 0,\n",
       "       0, 0, 0, 0, 0, 1, 1, 0, 1, 0, 1, 0, 0, 0, 1, 1, 0, 0, 0, 0, 0, 0,\n",
       "       0, 1, 0, 0, 1, 1, 0, 0, 0, 1, 0, 0, 0, 1, 1, 1, 1, 0, 0, 0, 0, 0,\n",
       "       0, 0, 0, 1, 0, 0, 1, 0, 1, 0, 0, 0, 0, 0, 0, 0, 1, 0, 1, 0, 0, 0,\n",
       "       0, 0, 1, 0, 1, 0, 1, 0, 0, 0, 0, 0, 1, 0, 1, 1, 0, 0, 0, 0, 0, 0,\n",
       "       0, 1, 0, 0, 0, 1, 0, 0, 0, 0, 0, 0, 0, 0, 1, 1, 1, 0, 0, 1, 1, 0,\n",
       "       0, 0, 1, 0, 1, 0, 1, 0])"
      ]
     },
     "execution_count": 94,
     "metadata": {},
     "output_type": "execute_result"
    }
   ],
   "source": [
    "result_y"
   ]
  },
  {
   "cell_type": "code",
   "execution_count": null,
   "id": "c44a361c",
   "metadata": {},
   "outputs": [],
   "source": []
  },
  {
   "cell_type": "code",
   "execution_count": null,
   "id": "15c1b2c4",
   "metadata": {},
   "outputs": [],
   "source": []
  },
  {
   "cell_type": "code",
   "execution_count": null,
   "id": "005180a4",
   "metadata": {},
   "outputs": [],
   "source": [
    "#write your Logic here:  \n",
    "\n",
    "\n",
    "#OUTPUT [uncomment & modify if required]  \n",
    "print(result)"
   ]
  },
  {
   "cell_type": "code",
   "execution_count": null,
   "id": "5d563bd8",
   "metadata": {},
   "outputs": [],
   "source": []
  }
 ],
 "metadata": {
  "kernelspec": {
   "display_name": "Python 3 (ipykernel)",
   "language": "python",
   "name": "python3"
  },
  "language_info": {
   "codemirror_mode": {
    "name": "ipython",
    "version": 3
   },
   "file_extension": ".py",
   "mimetype": "text/x-python",
   "name": "python",
   "nbconvert_exporter": "python",
   "pygments_lexer": "ipython3",
   "version": "3.9.12"
  }
 },
 "nbformat": 4,
 "nbformat_minor": 5
}
